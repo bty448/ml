{
 "cells": [
  {
   "cell_type": "code",
   "execution_count": 1,
   "metadata": {},
   "outputs": [
    {
     "name": "stderr",
     "output_type": "stream",
     "text": [
      "/Users/artyom448/Library/Python/3.8/lib/python/site-packages/tqdm/auto.py:21: TqdmWarning: IProgress not found. Please update jupyter and ipywidgets. See https://ipywidgets.readthedocs.io/en/stable/user_install.html\n",
      "  from .autonotebook import tqdm as notebook_tqdm\n"
     ]
    }
   ],
   "source": [
    "from enum import Enum\n",
    "import pandas as pd\n",
    "import optuna\n",
    "from sklearn.model_selection import train_test_split, cross_val_score\n",
    "from sklearn.metrics import roc_auc_score\n",
    "from sklearn.neighbors import KNeighborsClassifier\n",
    "from sklearn.svm import SVC\n",
    "from sklearn.naive_bayes import GaussianNB\n",
    "from sklearn.tree import DecisionTreeClassifier\n",
    "from sklearn.ensemble import AdaBoostClassifier"
   ]
  },
  {
   "cell_type": "code",
   "execution_count": 2,
   "metadata": {},
   "outputs": [
    {
     "name": "stdout",
     "output_type": "stream",
     "text": [
      "Index(['id', ''top-left-square'', ''top-middle-square'', ''top-right-square'',\n",
      "       ''middle-left-square'', ''middle-middle-square'',\n",
      "       ''middle-right-square'', ''bottom-left-square'',\n",
      "       ''bottom-middle-square'', ''bottom-right-square'', ''Class''],\n",
      "      dtype='object')\n",
      "<bound method NDFrame.head of       id 'top-left-square' 'top-middle-square' 'top-right-square'  \\\n",
      "0      1                 x                   x                  x   \n",
      "1      2                 x                   x                  x   \n",
      "2      3                 x                   x                  x   \n",
      "3      4                 x                   x                  x   \n",
      "4      5                 x                   x                  x   \n",
      "..   ...               ...                 ...                ...   \n",
      "953  954                 o                   x                  x   \n",
      "954  955                 o                   x                  o   \n",
      "955  956                 o                   x                  o   \n",
      "956  957                 o                   x                  o   \n",
      "957  958                 o                   o                  x   \n",
      "\n",
      "    'middle-left-square' 'middle-middle-square' 'middle-right-square'  \\\n",
      "0                      x                      o                     o   \n",
      "1                      x                      o                     o   \n",
      "2                      x                      o                     o   \n",
      "3                      x                      o                     o   \n",
      "4                      x                      o                     o   \n",
      "..                   ...                    ...                   ...   \n",
      "953                    x                      o                     o   \n",
      "954                    x                      x                     o   \n",
      "955                    x                      o                     x   \n",
      "956                    o                      x                     x   \n",
      "957                    x                      x                     o   \n",
      "\n",
      "    'bottom-left-square' 'bottom-middle-square' 'bottom-right-square'  \\\n",
      "0                      x                      o                     o   \n",
      "1                      o                      x                     o   \n",
      "2                      o                      o                     x   \n",
      "3                      o                      b                     b   \n",
      "4                      b                      o                     b   \n",
      "..                   ...                    ...                   ...   \n",
      "953                    o                      x                     x   \n",
      "954                    x                      o                     x   \n",
      "955                    x                      o                     x   \n",
      "956                    x                      o                     x   \n",
      "957                    o                      x                     x   \n",
      "\n",
      "      'Class'  \n",
      "0    positive  \n",
      "1    positive  \n",
      "2    positive  \n",
      "3    positive  \n",
      "4    positive  \n",
      "..        ...  \n",
      "953  negative  \n",
      "954  negative  \n",
      "955  negative  \n",
      "956  negative  \n",
      "957  negative  \n",
      "\n",
      "[958 rows x 11 columns]>\n"
     ]
    }
   ],
   "source": [
    "df = pd.read_csv('csv_result-dataset_50_tic-tac-toe.csv')\n",
    "\n",
    "print(df.columns)\n",
    "df.head"
   ]
  },
  {
   "cell_type": "code",
   "execution_count": 3,
   "metadata": {},
   "outputs": [
    {
     "name": "stdout",
     "output_type": "stream",
     "text": [
      "Index(['id', 'top-left-square', 'top-middle-square', 'top-right-square',\n",
      "       'middle-left-square', 'middle-middle-square', 'middle-right-square',\n",
      "       'bottom-left-square', 'bottom-middle-square', 'bottom-right-square',\n",
      "       'Class'],\n",
      "      dtype='object')\n",
      "<bound method NDFrame.head of       id  top-left-square  top-middle-square  top-right-square  \\\n",
      "0      1                1                  1                 1   \n",
      "1      2                1                  1                 1   \n",
      "2      3                1                  1                 1   \n",
      "3      4                1                  1                 1   \n",
      "4      5                1                  1                 1   \n",
      "..   ...              ...                ...               ...   \n",
      "953  954               -1                  1                 1   \n",
      "954  955               -1                  1                -1   \n",
      "955  956               -1                  1                -1   \n",
      "956  957               -1                  1                -1   \n",
      "957  958               -1                 -1                 1   \n",
      "\n",
      "     middle-left-square  middle-middle-square  middle-right-square  \\\n",
      "0                     1                    -1                   -1   \n",
      "1                     1                    -1                   -1   \n",
      "2                     1                    -1                   -1   \n",
      "3                     1                    -1                   -1   \n",
      "4                     1                    -1                   -1   \n",
      "..                  ...                   ...                  ...   \n",
      "953                   1                    -1                   -1   \n",
      "954                   1                     1                   -1   \n",
      "955                   1                    -1                    1   \n",
      "956                  -1                     1                    1   \n",
      "957                   1                     1                   -1   \n",
      "\n",
      "     bottom-left-square  bottom-middle-square  bottom-right-square  Class  \n",
      "0                     1                    -1                   -1      1  \n",
      "1                    -1                     1                   -1      1  \n",
      "2                    -1                    -1                    1      1  \n",
      "3                    -1                     0                    0      1  \n",
      "4                     0                    -1                    0      1  \n",
      "..                  ...                   ...                  ...    ...  \n",
      "953                  -1                     1                    1     -1  \n",
      "954                   1                    -1                    1     -1  \n",
      "955                   1                    -1                    1     -1  \n",
      "956                   1                    -1                    1     -1  \n",
      "957                  -1                     1                    1     -1  \n",
      "\n",
      "[958 rows x 11 columns]>\n"
     ]
    }
   ],
   "source": [
    "rename_map={}\n",
    "for col in df.columns:\n",
    "    if col.startswith('\\'') and col.endswith('\\''):\n",
    "        rename_map[col] = col[1:-1]\n",
    "df = df.rename(columns=rename_map)\n",
    "\n",
    "print(df.columns)\n",
    "\n",
    "field_cols = ['top-left-square', 'top-middle-square', 'top-right-square',\n",
    "              'middle-left-square', 'middle-middle-square',\n",
    "              'middle-right-square', 'bottom-left-square',\n",
    "              'bottom-middle-square', 'bottom-right-square']\n",
    "\n",
    "df[field_cols] = df[field_cols].replace(['x', 'o', 'b'], [1, -1, 0])\n",
    "df['Class'] = df.loc[:, 'Class'].replace(['positive', 'negative'], [1, -1])\n",
    "\n",
    "print(df.head)"
   ]
  },
  {
   "cell_type": "code",
   "execution_count": 4,
   "metadata": {},
   "outputs": [],
   "source": [
    "train_size = 0.6\n",
    "target = df['Class']\n",
    "df.drop(columns=['Class'], inplace=True)\n",
    "\n",
    "X_train, X_test, y_train, y_test = train_test_split(df, target, train_size=train_size, shuffle=True)"
   ]
  },
  {
   "cell_type": "code",
   "execution_count": 5,
   "metadata": {},
   "outputs": [],
   "source": [
    "class ModelType(Enum):\n",
    "    NearestNeighbours = 1\n",
    "    SupportVectorMachine = 2\n",
    "    BayessianClassifier = 3\n",
    "    DecisionTree = 4\n",
    "    AdaBoost = 5\n",
    "\n",
    "def suggest_nearest_neighbours_model(trial):\n",
    "    algorithm = trial.suggest_categorical('knn_algorithm', ['brute', 'kd_tree', 'ball_tree', 'auto'])\n",
    "    leaf_size = trial.suggest_int('knn_leaf_size', 1, 200)\n",
    "\n",
    "    return KNeighborsClassifier(\n",
    "        algorithm=algorithm,\n",
    "        n_neighbors=trial.suggest_int('knn_n_neighbors', 1, 400),\n",
    "        weights=trial.suggest_categorical('knn_weights', ['uniform', 'distance']),\n",
    "        p=trial.suggest_int('knn_p', 1, 3),\n",
    "        leaf_size=leaf_size,\n",
    "    )\n",
    "\n",
    "def suggest_svm_model(trial):\n",
    "    gamma = trial.suggest_categorical('svm_gamma_cat', ['scale', 'auto', 'float'])\n",
    "    gamma = trial.suggest_float('svm_gamma_num', 0.1, 5.0) if gamma == 'float' else gamma\n",
    "    kernel = trial.suggest_categorical('svm_kernel', ['linear', 'rbf', 'poly', 'sigmoid'])\n",
    "    coef0 = trial.suggest_float('svm_coef0', 0.1, 50.0) if kernel in ['poly', 'sigmoid'] else 0.0\n",
    "\n",
    "    return SVC(\n",
    "        degree=trial.suggest_int('svm_degree', 1, 5) if kernel == 'poly' else 1,\n",
    "        shrinking=trial.suggest_categorical('svm_shrinking', [True, False]),\n",
    "        probability=trial.suggest_categorical('svm_probability', [True, False]),\n",
    "        tol=trial.suggest_float('svm_tol', 0.0001, 1.0),\n",
    "        C=trial.suggest_float('svm_C', 0.1, 5.0),\n",
    "        kernel=kernel,\n",
    "        gamma=gamma,\n",
    "        coef0=coef0,\n",
    "        max_iter=500,\n",
    "        random_state=1337,\n",
    "    )\n",
    "\n",
    "def suggest_baessian_classifier(trial):\n",
    "    guess_priors = trial.suggest_categorical('bc_guess_priors', [True, False])\n",
    "    priors = trial.suggest_float('bc_priors', 0.0, 1.0) if guess_priors else None\n",
    "    priors = [priors, 1.0 - priors] if guess_priors else None\n",
    "\n",
    "    return GaussianNB(\n",
    "        var_smoothing=trial.suggest_float('bc_var_smoothing', 0.00000001, 0.01),\n",
    "        priors=priors,\n",
    "    )\n",
    "\n",
    "def suggest_decision_tree(trial):\n",
    "    limit_max_depth = trial.suggest_categorical('dt_limit_max_depth', [True, False])\n",
    "    max_depth = trial.suggest_int('dt_max_depth', 5, 100) if limit_max_depth else None\n",
    "    limit_max_leaf_nodes = trial.suggest_categorical('dt_limit_max_leaf_nodes', [True, False])\n",
    "    max_leaf_nodes = trial.suggest_int('dt_max_leaf_nodes', 5, 300) if limit_max_leaf_nodes else None\n",
    "\n",
    "    return DecisionTreeClassifier(\n",
    "        splitter=trial.suggest_categorical('dt_splitter', ['best', 'random']),\n",
    "        criterion=trial.suggest_categorical('dt_criterion', ['gini', 'entropy', 'log_loss']),\n",
    "        min_samples_split=trial.suggest_int('dt_min_samples_split', 2, 50),\n",
    "        min_samples_leaf=trial.suggest_int('dt_min_saples_leaf', 1, 50),\n",
    "        max_features=trial.suggest_categorical('dt_max_features', ['sqrt', 'log2', None]),\n",
    "        min_impurity_decrease=trial.suggest_float('dt_min_impurity_decrease', 0.0, 0.5),\n",
    "        ccp_alpha=trial.suggest_float('dt_ccp_alpha', 0.0, 1.0), \n",
    "        max_depth=max_depth,\n",
    "        max_leaf_nodes=max_leaf_nodes,\n",
    "        random_state=1337,\n",
    "    )\n",
    "\n",
    "def suggest_adaboost_model(trial):\n",
    "    return AdaBoostClassifier(\n",
    "        n_estimators=trial.suggest_int('ab_n_estimators', 5, 100),\n",
    "        learning_rate=trial.suggest_float('ab_learning_rate', 0.01, 3.0),\n",
    "        algorithm=trial.suggest_categorical('ab_algorithm', ['SAMME', 'SAMME.R'])\n",
    "    )\n",
    "\n",
    "def suggest_model(trial, model_type):\n",
    "    if model_type == ModelType.NearestNeighbours.name:\n",
    "        return suggest_nearest_neighbours_model(trial)\n",
    "    elif model_type == ModelType.SupportVectorMachine.name:\n",
    "        return suggest_svm_model(trial)\n",
    "    elif model_type == ModelType.BayessianClassifier.name:\n",
    "        return suggest_baessian_classifier(trial)\n",
    "    elif model_type == ModelType.DecisionTree.name:\n",
    "        return suggest_decision_tree(trial)\n",
    "    elif model_type == ModelType.AdaBoost.name:\n",
    "        return suggest_adaboost_model(trial)\n",
    "    else:\n",
    "        raise RuntimeError('Unexpected model type in suggest_model: {}'.format(model_type))"
   ]
  },
  {
   "cell_type": "code",
   "execution_count": 6,
   "metadata": {},
   "outputs": [],
   "source": [
    "def objective(trial):\n",
    "    model_type = trial.suggest_categorical('model_type', ModelType._member_names_)\n",
    "    print(model_type)\n",
    "    model = suggest_model(trial=trial, model_type=model_type)\n",
    "    return cross_val_score(model, X_train, y_train, scoring='roc_auc', cv=5, n_jobs=-1).mean()"
   ]
  },
  {
   "cell_type": "code",
   "execution_count": 7,
   "metadata": {},
   "outputs": [
    {
     "name": "stderr",
     "output_type": "stream",
     "text": [
      "[I 2023-06-08 14:32:33,406] A new study created in memory with name: no-name-e3ac0f5e-7ed0-4de3-aa28-37eb0e6c5f54\n"
     ]
    },
    {
     "name": "stdout",
     "output_type": "stream",
     "text": [
      "AdaBoost\n"
     ]
    },
    {
     "name": "stderr",
     "output_type": "stream",
     "text": [
      "[I 2023-06-08 14:32:37,379] Trial 0 finished with value: 0.9960697197539303 and parameters: {'model_type': 'AdaBoost', 'ab_n_estimators': 65, 'ab_learning_rate': 2.219961331232467, 'ab_algorithm': 'SAMME'}. Best is trial 0 with value: 0.9960697197539303.\n"
     ]
    },
    {
     "name": "stdout",
     "output_type": "stream",
     "text": [
      "SupportVectorMachine\n"
     ]
    },
    {
     "name": "stderr",
     "output_type": "stream",
     "text": [
      "[I 2023-06-08 14:32:39,262] Trial 1 finished with value: 0.5 and parameters: {'model_type': 'SupportVectorMachine', 'svm_gamma_cat': 'float', 'svm_gamma_num': 3.4588458636283246, 'svm_kernel': 'sigmoid', 'svm_coef0': 42.801329813290295, 'svm_shrinking': False, 'svm_probability': False, 'svm_tol': 0.5063563107685195, 'svm_C': 0.16914141386466067}. Best is trial 0 with value: 0.9960697197539303.\n",
      "[I 2023-06-08 14:32:39,350] Trial 2 finished with value: 1.0 and parameters: {'model_type': 'SupportVectorMachine', 'svm_gamma_cat': 'scale', 'svm_kernel': 'rbf', 'svm_shrinking': False, 'svm_probability': True, 'svm_tol': 0.5265001843502919, 'svm_C': 3.7597516695928137}. Best is trial 2 with value: 1.0.\n"
     ]
    },
    {
     "name": "stdout",
     "output_type": "stream",
     "text": [
      "SupportVectorMachine\n",
      "DecisionTree\n"
     ]
    },
    {
     "name": "stderr",
     "output_type": "stream",
     "text": [
      "[I 2023-06-08 14:32:39,515] Trial 3 finished with value: 0.9960697197539303 and parameters: {'model_type': 'DecisionTree', 'dt_limit_max_depth': False, 'dt_limit_max_leaf_nodes': True, 'dt_max_leaf_nodes': 40, 'dt_splitter': 'best', 'dt_criterion': 'log_loss', 'dt_min_samples_split': 20, 'dt_min_saples_leaf': 39, 'dt_max_features': 'log2', 'dt_min_impurity_decrease': 0.3719790781599228, 'dt_ccp_alpha': 0.348914923390514}. Best is trial 2 with value: 1.0.\n",
      "[I 2023-06-08 14:32:39,595] Trial 4 finished with value: 0.9960697197539303 and parameters: {'model_type': 'AdaBoost', 'ab_n_estimators': 25, 'ab_learning_rate': 0.5080982096543168, 'ab_algorithm': 'SAMME'}. Best is trial 2 with value: 1.0.\n",
      "[I 2023-06-08 14:32:39,641] Trial 5 finished with value: 0.4218215994531784 and parameters: {'model_type': 'SupportVectorMachine', 'svm_gamma_cat': 'auto', 'svm_kernel': 'sigmoid', 'svm_coef0': 5.77153114695823, 'svm_shrinking': True, 'svm_probability': False, 'svm_tol': 0.7280651601443753, 'svm_C': 2.970084106791277}. Best is trial 2 with value: 1.0.\n",
      "[I 2023-06-08 14:32:39,681] Trial 6 finished with value: 1.0 and parameters: {'model_type': 'SupportVectorMachine', 'svm_gamma_cat': 'scale', 'svm_kernel': 'linear', 'svm_shrinking': True, 'svm_probability': False, 'svm_tol': 0.3009276513238216, 'svm_C': 1.0960664971990783}. Best is trial 2 with value: 1.0.\n",
      "[I 2023-06-08 14:32:39,715] Trial 7 finished with value: 1.0 and parameters: {'model_type': 'BayessianClassifier', 'bc_guess_priors': False, 'bc_var_smoothing': 0.008271288175428087}. Best is trial 2 with value: 1.0.\n"
     ]
    },
    {
     "name": "stdout",
     "output_type": "stream",
     "text": [
      "AdaBoost\n",
      "SupportVectorMachine\n",
      "SupportVectorMachine\n",
      "BayessianClassifier\n",
      "AdaBoost\n"
     ]
    },
    {
     "name": "stderr",
     "output_type": "stream",
     "text": [
      "[I 2023-06-08 14:32:39,755] Trial 8 finished with value: 0.9960697197539303 and parameters: {'model_type': 'AdaBoost', 'ab_n_estimators': 58, 'ab_learning_rate': 0.43479787895460065, 'ab_algorithm': 'SAMME'}. Best is trial 2 with value: 1.0.\n",
      "[I 2023-06-08 14:32:39,783] Trial 9 finished with value: 1.0 and parameters: {'model_type': 'BayessianClassifier', 'bc_guess_priors': True, 'bc_priors': 0.48371903470882927, 'bc_var_smoothing': 0.009821591347708688}. Best is trial 2 with value: 1.0.\n",
      "[I 2023-06-08 14:32:39,846] Trial 10 finished with value: 1.0 and parameters: {'model_type': 'NearestNeighbours', 'knn_algorithm': 'kd_tree', 'knn_leaf_size': 60, 'knn_n_neighbors': 32, 'knn_weights': 'distance', 'knn_p': 2}. Best is trial 2 with value: 1.0.\n",
      "[I 2023-06-08 14:32:39,888] Trial 11 finished with value: 1.0 and parameters: {'model_type': 'SupportVectorMachine', 'svm_gamma_cat': 'scale', 'svm_kernel': 'linear', 'svm_shrinking': False, 'svm_probability': True, 'svm_tol': 0.1625760378053948, 'svm_C': 4.212980421821387}. Best is trial 2 with value: 1.0.\n",
      "[I 2023-06-08 14:32:39,940] Trial 12 finished with value: 1.0 and parameters: {'model_type': 'SupportVectorMachine', 'svm_gamma_cat': 'scale', 'svm_kernel': 'rbf', 'svm_shrinking': True, 'svm_probability': True, 'svm_tol': 0.2854327063324045, 'svm_C': 1.2303619152400622}. Best is trial 2 with value: 1.0.\n"
     ]
    },
    {
     "name": "stdout",
     "output_type": "stream",
     "text": [
      "BayessianClassifier\n",
      "NearestNeighbours\n",
      "SupportVectorMachine\n",
      "SupportVectorMachine\n",
      "SupportVectorMachine\n"
     ]
    },
    {
     "name": "stderr",
     "output_type": "stream",
     "text": [
      "[I 2023-06-08 14:32:39,984] Trial 13 finished with value: 1.0 and parameters: {'model_type': 'SupportVectorMachine', 'svm_gamma_cat': 'scale', 'svm_kernel': 'rbf', 'svm_shrinking': True, 'svm_probability': False, 'svm_tol': 0.4872884073966674, 'svm_C': 4.943019345648526}. Best is trial 2 with value: 1.0.\n",
      "[I 2023-06-08 14:32:40,044] Trial 14 finished with value: 0.9348427887901571 and parameters: {'model_type': 'NearestNeighbours', 'knn_algorithm': 'brute', 'knn_leaf_size': 151, 'knn_n_neighbors': 386, 'knn_weights': 'uniform', 'knn_p': 3}. Best is trial 2 with value: 1.0.\n",
      "[I 2023-06-08 14:32:40,098] Trial 15 finished with value: 0.5 and parameters: {'model_type': 'DecisionTree', 'dt_limit_max_depth': True, 'dt_max_depth': 75, 'dt_limit_max_leaf_nodes': False, 'dt_splitter': 'random', 'dt_criterion': 'entropy', 'dt_min_samples_split': 48, 'dt_min_saples_leaf': 8, 'dt_max_features': 'sqrt', 'dt_min_impurity_decrease': 0.0005434659062481528, 'dt_ccp_alpha': 0.9719022256856983}. Best is trial 2 with value: 1.0.\n",
      "[I 2023-06-08 14:32:40,140] Trial 16 finished with value: 1.0 and parameters: {'model_type': 'SupportVectorMachine', 'svm_gamma_cat': 'scale', 'svm_kernel': 'linear', 'svm_shrinking': False, 'svm_probability': True, 'svm_tol': 0.9625517993700399, 'svm_C': 2.633985467831085}. Best is trial 2 with value: 1.0.\n",
      "[I 2023-06-08 14:32:40,195] Trial 17 finished with value: 1.0 and parameters: {'model_type': 'SupportVectorMachine', 'svm_gamma_cat': 'scale', 'svm_kernel': 'poly', 'svm_coef0': 47.70515442059912, 'svm_degree': 5, 'svm_shrinking': True, 'svm_probability': True, 'svm_tol': 0.0770797930314557, 'svm_C': 1.4223480235728672}. Best is trial 2 with value: 1.0.\n"
     ]
    },
    {
     "name": "stdout",
     "output_type": "stream",
     "text": [
      "NearestNeighbours\n",
      "DecisionTree\n",
      "SupportVectorMachine\n",
      "SupportVectorMachine\n",
      "SupportVectorMachine\n"
     ]
    },
    {
     "name": "stderr",
     "output_type": "stream",
     "text": [
      "[I 2023-06-08 14:32:40,238] Trial 18 finished with value: 1.0 and parameters: {'model_type': 'SupportVectorMachine', 'svm_gamma_cat': 'auto', 'svm_kernel': 'linear', 'svm_shrinking': False, 'svm_probability': False, 'svm_tol': 0.37154575619851393, 'svm_C': 3.5209432474343747}. Best is trial 2 with value: 1.0.\n",
      "[I 2023-06-08 14:32:40,279] Trial 19 finished with value: 1.0 and parameters: {'model_type': 'BayessianClassifier', 'bc_guess_priors': True, 'bc_priors': 0.9979303868171748, 'bc_var_smoothing': 3.469233965020663e-05}. Best is trial 2 with value: 1.0.\n",
      "[I 2023-06-08 14:32:40,353] Trial 20 finished with value: 0.5 and parameters: {'model_type': 'DecisionTree', 'dt_limit_max_depth': False, 'dt_limit_max_leaf_nodes': False, 'dt_splitter': 'random', 'dt_criterion': 'gini', 'dt_min_samples_split': 2, 'dt_min_saples_leaf': 49, 'dt_max_features': None, 'dt_min_impurity_decrease': 0.4902359655626656, 'dt_ccp_alpha': 0.04671862445909458}. Best is trial 2 with value: 1.0.\n",
      "[I 2023-06-08 14:32:40,388] Trial 21 finished with value: 1.0 and parameters: {'model_type': 'BayessianClassifier', 'bc_guess_priors': False, 'bc_var_smoothing': 0.008833729182128137}. Best is trial 2 with value: 1.0.\n",
      "[I 2023-06-08 14:32:40,420] Trial 22 finished with value: 1.0 and parameters: {'model_type': 'BayessianClassifier', 'bc_guess_priors': False, 'bc_var_smoothing': 0.0060775700800137665}. Best is trial 2 with value: 1.0.\n"
     ]
    },
    {
     "name": "stdout",
     "output_type": "stream",
     "text": [
      "BayessianClassifier\n",
      "DecisionTree\n",
      "BayessianClassifier\n",
      "BayessianClassifier\n",
      "BayessianClassifier\n"
     ]
    },
    {
     "name": "stderr",
     "output_type": "stream",
     "text": [
      "[I 2023-06-08 14:32:40,453] Trial 23 finished with value: 1.0 and parameters: {'model_type': 'BayessianClassifier', 'bc_guess_priors': False, 'bc_var_smoothing': 0.0064689101571651746}. Best is trial 2 with value: 1.0.\n",
      "[I 2023-06-08 14:32:40,503] Trial 24 finished with value: 1.0 and parameters: {'model_type': 'NearestNeighbours', 'knn_algorithm': 'ball_tree', 'knn_leaf_size': 8, 'knn_n_neighbors': 234, 'knn_weights': 'distance', 'knn_p': 1}. Best is trial 2 with value: 1.0.\n",
      "[I 2023-06-08 14:32:40,535] Trial 25 finished with value: 1.0 and parameters: {'model_type': 'BayessianClassifier', 'bc_guess_priors': False, 'bc_var_smoothing': 0.003612336059622652}. Best is trial 2 with value: 1.0.\n",
      "[I 2023-06-08 14:32:40,651] Trial 26 finished with value: 0.9996582365003418 and parameters: {'model_type': 'SupportVectorMachine', 'svm_gamma_cat': 'float', 'svm_gamma_num': 0.4257517869801939, 'svm_kernel': 'rbf', 'svm_shrinking': False, 'svm_probability': True, 'svm_tol': 0.5792485878547393, 'svm_C': 3.6567820341403405}. Best is trial 2 with value: 1.0.\n"
     ]
    },
    {
     "name": "stdout",
     "output_type": "stream",
     "text": [
      "NearestNeighbours\n",
      "BayessianClassifier\n",
      "SupportVectorMachine\n",
      "SupportVectorMachine\n"
     ]
    },
    {
     "name": "stderr",
     "output_type": "stream",
     "text": [
      "[I 2023-06-08 14:32:40,709] Trial 27 finished with value: 1.0 and parameters: {'model_type': 'SupportVectorMachine', 'svm_gamma_cat': 'scale', 'svm_kernel': 'poly', 'svm_coef0': 3.31204979860145, 'svm_degree': 1, 'svm_shrinking': True, 'svm_probability': False, 'svm_tol': 0.00595685292056336, 'svm_C': 2.152903758090879}. Best is trial 2 with value: 1.0.\n",
      "[I 2023-06-08 14:32:40,745] Trial 28 finished with value: 1.0 and parameters: {'model_type': 'BayessianClassifier', 'bc_guess_priors': False, 'bc_var_smoothing': 0.007799134974392696}. Best is trial 2 with value: 1.0.\n",
      "[I 2023-06-08 14:32:40,797] Trial 29 finished with value: 0.9960697197539303 and parameters: {'model_type': 'AdaBoost', 'ab_n_estimators': 100, 'ab_learning_rate': 2.993330002422362, 'ab_algorithm': 'SAMME.R'}. Best is trial 2 with value: 1.0.\n",
      "[I 2023-06-08 14:32:40,852] Trial 30 finished with value: 1.0 and parameters: {'model_type': 'NearestNeighbours', 'knn_algorithm': 'auto', 'knn_leaf_size': 200, 'knn_n_neighbors': 14, 'knn_weights': 'uniform', 'knn_p': 3}. Best is trial 2 with value: 1.0.\n",
      "[I 2023-06-08 14:32:40,893] Trial 31 finished with value: 1.0 and parameters: {'model_type': 'BayessianClassifier', 'bc_guess_priors': True, 'bc_priors': 0.20442188015433493, 'bc_var_smoothing': 0.009611467076880303}. Best is trial 2 with value: 1.0.\n"
     ]
    },
    {
     "name": "stdout",
     "output_type": "stream",
     "text": [
      "BayessianClassifier\n",
      "AdaBoost\n",
      "NearestNeighbours\n",
      "BayessianClassifier\n",
      "BayessianClassifier\n"
     ]
    },
    {
     "name": "stderr",
     "output_type": "stream",
     "text": [
      "[I 2023-06-08 14:32:40,932] Trial 32 finished with value: 1.0 and parameters: {'model_type': 'BayessianClassifier', 'bc_guess_priors': True, 'bc_priors': 0.47979636776114787, 'bc_var_smoothing': 0.009850299719636618}. Best is trial 2 with value: 1.0.\n",
      "[I 2023-06-08 14:32:40,976] Trial 33 finished with value: 1.0 and parameters: {'model_type': 'BayessianClassifier', 'bc_guess_priors': True, 'bc_priors': 0.06734965040486851, 'bc_var_smoothing': 0.008064848020939916}. Best is trial 2 with value: 1.0.\n",
      "[I 2023-06-08 14:32:41,083] Trial 34 finished with value: 0.5 and parameters: {'model_type': 'DecisionTree', 'dt_limit_max_depth': True, 'dt_max_depth': 5, 'dt_limit_max_leaf_nodes': True, 'dt_max_leaf_nodes': 287, 'dt_splitter': 'best', 'dt_criterion': 'entropy', 'dt_min_samples_split': 50, 'dt_min_saples_leaf': 2, 'dt_max_features': None, 'dt_min_impurity_decrease': 0.17325869263068114, 'dt_ccp_alpha': 0.9945680723087769}. Best is trial 2 with value: 1.0.\n",
      "[I 2023-06-08 14:32:41,141] Trial 35 finished with value: 0.9960697197539303 and parameters: {'model_type': 'AdaBoost', 'ab_n_estimators': 8, 'ab_learning_rate': 1.46199182213519, 'ab_algorithm': 'SAMME.R'}. Best is trial 2 with value: 1.0.\n"
     ]
    },
    {
     "name": "stdout",
     "output_type": "stream",
     "text": [
      "BayessianClassifier\n",
      "DecisionTree\n",
      "AdaBoost\n",
      "SupportVectorMachine\n"
     ]
    },
    {
     "name": "stderr",
     "output_type": "stream",
     "text": [
      "[I 2023-06-08 14:32:41,236] Trial 36 finished with value: 1.0 and parameters: {'model_type': 'SupportVectorMachine', 'svm_gamma_cat': 'scale', 'svm_kernel': 'rbf', 'svm_shrinking': True, 'svm_probability': True, 'svm_tol': 0.24992591510733494, 'svm_C': 0.16784956654053496}. Best is trial 2 with value: 1.0.\n",
      "[I 2023-06-08 14:32:41,278] Trial 37 finished with value: 1.0 and parameters: {'model_type': 'BayessianClassifier', 'bc_guess_priors': True, 'bc_priors': 0.5797215554328274, 'bc_var_smoothing': 0.009951257118631707}. Best is trial 2 with value: 1.0.\n",
      "[I 2023-06-08 14:32:41,336] Trial 38 finished with value: 1.0 and parameters: {'model_type': 'SupportVectorMachine', 'svm_gamma_cat': 'scale', 'svm_kernel': 'linear', 'svm_shrinking': False, 'svm_probability': False, 'svm_tol': 0.3795365774049188, 'svm_C': 2.072147799379143}. Best is trial 2 with value: 1.0.\n",
      "[I 2023-06-08 14:32:41,386] Trial 39 finished with value: 0.9960697197539303 and parameters: {'model_type': 'AdaBoost', 'ab_n_estimators': 100, 'ab_learning_rate': 0.03786593110992853, 'ab_algorithm': 'SAMME.R'}. Best is trial 2 with value: 1.0.\n"
     ]
    },
    {
     "name": "stdout",
     "output_type": "stream",
     "text": [
      "BayessianClassifier\n",
      "SupportVectorMachine\n",
      "AdaBoost\n",
      "SupportVectorMachine\n"
     ]
    },
    {
     "name": "stderr",
     "output_type": "stream",
     "text": [
      "[I 2023-06-08 14:32:41,499] Trial 40 finished with value: 0.9366910098212037 and parameters: {'model_type': 'SupportVectorMachine', 'svm_gamma_cat': 'float', 'svm_gamma_num': 4.772035767175022, 'svm_kernel': 'rbf', 'svm_shrinking': False, 'svm_probability': True, 'svm_tol': 0.6705555025767385, 'svm_C': 3.1729829586564557}. Best is trial 2 with value: 1.0.\n",
      "[I 2023-06-08 14:32:41,543] Trial 41 finished with value: 1.0 and parameters: {'model_type': 'NearestNeighbours', 'knn_algorithm': 'kd_tree', 'knn_leaf_size': 49, 'knn_n_neighbors': 7, 'knn_weights': 'distance', 'knn_p': 1}. Best is trial 2 with value: 1.0.\n",
      "[I 2023-06-08 14:32:41,590] Trial 42 finished with value: 1.0 and parameters: {'model_type': 'NearestNeighbours', 'knn_algorithm': 'kd_tree', 'knn_leaf_size': 78, 'knn_n_neighbors': 153, 'knn_weights': 'distance', 'knn_p': 2}. Best is trial 2 with value: 1.0.\n",
      "[I 2023-06-08 14:32:41,638] Trial 43 finished with value: 1.0 and parameters: {'model_type': 'NearestNeighbours', 'knn_algorithm': 'kd_tree', 'knn_leaf_size': 117, 'knn_n_neighbors': 135, 'knn_weights': 'distance', 'knn_p': 2}. Best is trial 2 with value: 1.0.\n",
      "[I 2023-06-08 14:32:41,693] Trial 44 finished with value: 1.0 and parameters: {'model_type': 'NearestNeighbours', 'knn_algorithm': 'brute', 'knn_leaf_size': 12, 'knn_n_neighbors': 268, 'knn_weights': 'distance', 'knn_p': 2}. Best is trial 2 with value: 1.0.\n"
     ]
    },
    {
     "name": "stdout",
     "output_type": "stream",
     "text": [
      "NearestNeighbours\n",
      "NearestNeighbours\n",
      "NearestNeighbours\n",
      "NearestNeighbours\n",
      "DecisionTree\n"
     ]
    },
    {
     "name": "stderr",
     "output_type": "stream",
     "text": [
      "[I 2023-06-08 14:32:41,750] Trial 45 finished with value: 0.5 and parameters: {'model_type': 'DecisionTree', 'dt_limit_max_depth': True, 'dt_max_depth': 98, 'dt_limit_max_leaf_nodes': False, 'dt_splitter': 'random', 'dt_criterion': 'log_loss', 'dt_min_samples_split': 29, 'dt_min_saples_leaf': 23, 'dt_max_features': 'sqrt', 'dt_min_impurity_decrease': 0.2170869551479774, 'dt_ccp_alpha': 0.5886152054782717}. Best is trial 2 with value: 1.0.\n",
      "[I 2023-06-08 14:32:41,793] Trial 46 finished with value: 1.0 and parameters: {'model_type': 'SupportVectorMachine', 'svm_gamma_cat': 'auto', 'svm_kernel': 'linear', 'svm_shrinking': True, 'svm_probability': False, 'svm_tol': 0.17181002317388974, 'svm_C': 4.016631324210042}. Best is trial 2 with value: 1.0.\n",
      "[I 2023-06-08 14:32:41,828] Trial 47 finished with value: 1.0 and parameters: {'model_type': 'BayessianClassifier', 'bc_guess_priors': True, 'bc_priors': 0.4395184446877824, 'bc_var_smoothing': 0.007626874783362286}. Best is trial 2 with value: 1.0.\n",
      "[I 2023-06-08 14:32:41,893] Trial 48 finished with value: 0.5 and parameters: {'model_type': 'SupportVectorMachine', 'svm_gamma_cat': 'scale', 'svm_kernel': 'sigmoid', 'svm_coef0': 25.58840630547074, 'svm_shrinking': True, 'svm_probability': False, 'svm_tol': 0.3811177387855652, 'svm_C': 1.005033720698137}. Best is trial 2 with value: 1.0.\n",
      "[I 2023-06-08 14:32:41,938] Trial 49 finished with value: 1.0 and parameters: {'model_type': 'NearestNeighbours', 'knn_algorithm': 'auto', 'knn_leaf_size': 63, 'knn_n_neighbors': 89, 'knn_weights': 'uniform', 'knn_p': 1}. Best is trial 2 with value: 1.0.\n"
     ]
    },
    {
     "name": "stdout",
     "output_type": "stream",
     "text": [
      "SupportVectorMachine\n",
      "BayessianClassifier\n",
      "SupportVectorMachine\n",
      "NearestNeighbours\n",
      "SupportVectorMachine\n"
     ]
    },
    {
     "name": "stderr",
     "output_type": "stream",
     "text": [
      "[I 2023-06-08 14:32:41,993] Trial 50 finished with value: 1.0 and parameters: {'model_type': 'SupportVectorMachine', 'svm_gamma_cat': 'scale', 'svm_kernel': 'poly', 'svm_coef0': 23.891239975229414, 'svm_degree': 3, 'svm_shrinking': False, 'svm_probability': True, 'svm_tol': 0.26898197156754616, 'svm_C': 2.332975825652034}. Best is trial 2 with value: 1.0.\n",
      "[I 2023-06-08 14:32:42,036] Trial 51 finished with value: 1.0 and parameters: {'model_type': 'SupportVectorMachine', 'svm_gamma_cat': 'scale', 'svm_kernel': 'linear', 'svm_shrinking': False, 'svm_probability': True, 'svm_tol': 0.12250356768046274, 'svm_C': 4.253311330374688}. Best is trial 2 with value: 1.0.\n",
      "[I 2023-06-08 14:32:42,085] Trial 52 finished with value: 1.0 and parameters: {'model_type': 'SupportVectorMachine', 'svm_gamma_cat': 'scale', 'svm_kernel': 'linear', 'svm_shrinking': False, 'svm_probability': True, 'svm_tol': 0.18985884817507268, 'svm_C': 4.514508996887617}. Best is trial 2 with value: 1.0.\n",
      "[I 2023-06-08 14:32:42,152] Trial 53 finished with value: 1.0 and parameters: {'model_type': 'SupportVectorMachine', 'svm_gamma_cat': 'scale', 'svm_kernel': 'linear', 'svm_shrinking': False, 'svm_probability': True, 'svm_tol': 0.02007684143307567, 'svm_C': 3.8272897962181873}. Best is trial 2 with value: 1.0.\n"
     ]
    },
    {
     "name": "stdout",
     "output_type": "stream",
     "text": [
      "SupportVectorMachine\n",
      "SupportVectorMachine\n",
      "SupportVectorMachine\n",
      "BayessianClassifier\n"
     ]
    },
    {
     "name": "stderr",
     "output_type": "stream",
     "text": [
      "[I 2023-06-08 14:32:42,208] Trial 54 finished with value: 1.0 and parameters: {'model_type': 'BayessianClassifier', 'bc_guess_priors': False, 'bc_var_smoothing': 0.008333630783010922}. Best is trial 2 with value: 1.0.\n",
      "[I 2023-06-08 14:32:42,282] Trial 55 finished with value: 1.0 and parameters: {'model_type': 'SupportVectorMachine', 'svm_gamma_cat': 'scale', 'svm_kernel': 'linear', 'svm_shrinking': False, 'svm_probability': True, 'svm_tol': 0.1177384141605147, 'svm_C': 4.395984175210395}. Best is trial 2 with value: 1.0.\n",
      "[I 2023-06-08 14:32:42,360] Trial 56 finished with value: 0.9960697197539303 and parameters: {'model_type': 'DecisionTree', 'dt_limit_max_depth': False, 'dt_limit_max_leaf_nodes': True, 'dt_max_leaf_nodes': 200, 'dt_splitter': 'best', 'dt_criterion': 'gini', 'dt_min_samples_split': 3, 'dt_min_saples_leaf': 22, 'dt_max_features': 'log2', 'dt_min_impurity_decrease': 0.03188096908385335, 'dt_ccp_alpha': 0.006456474369632925}. Best is trial 2 with value: 1.0.\n",
      "[I 2023-06-08 14:32:42,392] Trial 57 finished with value: 1.0 and parameters: {'model_type': 'BayessianClassifier', 'bc_guess_priors': False, 'bc_var_smoothing': 0.00695384731430192}. Best is trial 2 with value: 1.0.\n"
     ]
    },
    {
     "name": "stdout",
     "output_type": "stream",
     "text": [
      "SupportVectorMachine\n",
      "DecisionTree\n",
      "BayessianClassifier\n",
      "SupportVectorMachine\n"
     ]
    },
    {
     "name": "stderr",
     "output_type": "stream",
     "text": [
      "/Users/artyom448/Library/Python/3.8/lib/python/site-packages/sklearn/svm/_base.py:299: ConvergenceWarning: Solver terminated early (max_iter=500).  Consider pre-processing your data with StandardScaler or MinMaxScaler.\n",
      "  warnings.warn(\n",
      "/Users/artyom448/Library/Python/3.8/lib/python/site-packages/sklearn/svm/_base.py:299: ConvergenceWarning: Solver terminated early (max_iter=500).  Consider pre-processing your data with StandardScaler or MinMaxScaler.\n",
      "  warnings.warn(\n",
      "/Users/artyom448/Library/Python/3.8/lib/python/site-packages/sklearn/svm/_base.py:299: ConvergenceWarning: Solver terminated early (max_iter=500).  Consider pre-processing your data with StandardScaler or MinMaxScaler.\n",
      "  warnings.warn(\n",
      "/Users/artyom448/Library/Python/3.8/lib/python/site-packages/sklearn/svm/_base.py:299: ConvergenceWarning: Solver terminated early (max_iter=500).  Consider pre-processing your data with StandardScaler or MinMaxScaler.\n",
      "  warnings.warn(\n",
      "/Users/artyom448/Library/Python/3.8/lib/python/site-packages/sklearn/svm/_base.py:299: ConvergenceWarning: Solver terminated early (max_iter=500).  Consider pre-processing your data with StandardScaler or MinMaxScaler.\n",
      "  warnings.warn(\n",
      "[I 2023-06-08 14:32:42,558] Trial 58 finished with value: 0.9996582365003418 and parameters: {'model_type': 'SupportVectorMachine', 'svm_gamma_cat': 'float', 'svm_gamma_num': 1.1162347445151355, 'svm_kernel': 'rbf', 'svm_shrinking': False, 'svm_probability': True, 'svm_tol': 0.19525561177920286, 'svm_C': 3.371768498186438}. Best is trial 2 with value: 1.0.\n",
      "[I 2023-06-08 14:32:42,648] Trial 59 finished with value: 0.9960697197539303 and parameters: {'model_type': 'AdaBoost', 'ab_n_estimators': 34, 'ab_learning_rate': 1.337406677340503, 'ab_algorithm': 'SAMME.R'}. Best is trial 2 with value: 1.0.\n",
      "[I 2023-06-08 14:32:42,755] Trial 60 finished with value: 1.0 and parameters: {'model_type': 'NearestNeighbours', 'knn_algorithm': 'ball_tree', 'knn_leaf_size': 122, 'knn_n_neighbors': 322, 'knn_weights': 'distance', 'knn_p': 3}. Best is trial 2 with value: 1.0.\n"
     ]
    },
    {
     "name": "stdout",
     "output_type": "stream",
     "text": [
      "AdaBoost\n",
      "NearestNeighbours\n",
      "SupportVectorMachine\n"
     ]
    },
    {
     "name": "stderr",
     "output_type": "stream",
     "text": [
      "[I 2023-06-08 14:32:42,857] Trial 61 finished with value: 1.0 and parameters: {'model_type': 'SupportVectorMachine', 'svm_gamma_cat': 'scale', 'svm_kernel': 'rbf', 'svm_shrinking': True, 'svm_probability': True, 'svm_tol': 0.28365218025710554, 'svm_C': 1.4855244814936188}. Best is trial 2 with value: 1.0.\n",
      "[I 2023-06-08 14:32:42,952] Trial 62 finished with value: 1.0 and parameters: {'model_type': 'SupportVectorMachine', 'svm_gamma_cat': 'scale', 'svm_kernel': 'rbf', 'svm_shrinking': True, 'svm_probability': True, 'svm_tol': 0.32174218016529127, 'svm_C': 3.8505769454971057}. Best is trial 2 with value: 1.0.\n",
      "[I 2023-06-08 14:32:43,062] Trial 63 finished with value: 1.0 and parameters: {'model_type': 'SupportVectorMachine', 'svm_gamma_cat': 'scale', 'svm_kernel': 'rbf', 'svm_shrinking': True, 'svm_probability': True, 'svm_tol': 0.2299320462924787, 'svm_C': 2.873065735419262}. Best is trial 2 with value: 1.0.\n"
     ]
    },
    {
     "name": "stdout",
     "output_type": "stream",
     "text": [
      "SupportVectorMachine\n",
      "SupportVectorMachine\n",
      "BayessianClassifier\n"
     ]
    },
    {
     "name": "stderr",
     "output_type": "stream",
     "text": [
      "[I 2023-06-08 14:32:43,118] Trial 64 finished with value: 1.0 and parameters: {'model_type': 'BayessianClassifier', 'bc_guess_priors': True, 'bc_priors': 0.7141346706627871, 'bc_var_smoothing': 0.008924481069714822}. Best is trial 2 with value: 1.0.\n",
      "[I 2023-06-08 14:32:43,170] Trial 65 finished with value: 1.0 and parameters: {'model_type': 'SupportVectorMachine', 'svm_gamma_cat': 'scale', 'svm_kernel': 'rbf', 'svm_shrinking': True, 'svm_probability': True, 'svm_tol': 0.4309887326009151, 'svm_C': 3.291424239855904}. Best is trial 2 with value: 1.0.\n",
      "[I 2023-06-08 14:32:43,205] Trial 66 finished with value: 1.0 and parameters: {'model_type': 'BayessianClassifier', 'bc_guess_priors': True, 'bc_priors': 0.28311843727477987, 'bc_var_smoothing': 0.005068451657939582}. Best is trial 2 with value: 1.0.\n",
      "[I 2023-06-08 14:32:43,247] Trial 67 finished with value: 1.0 and parameters: {'model_type': 'SupportVectorMachine', 'svm_gamma_cat': 'auto', 'svm_kernel': 'linear', 'svm_shrinking': True, 'svm_probability': True, 'svm_tol': 0.29061207210262074, 'svm_C': 0.7304160711003289}. Best is trial 2 with value: 1.0.\n",
      "[I 2023-06-08 14:32:43,294] Trial 68 finished with value: 1.0 and parameters: {'model_type': 'SupportVectorMachine', 'svm_gamma_cat': 'scale', 'svm_kernel': 'linear', 'svm_shrinking': False, 'svm_probability': False, 'svm_tol': 0.33373124369322205, 'svm_C': 1.7525599454437224}. Best is trial 2 with value: 1.0.\n"
     ]
    },
    {
     "name": "stdout",
     "output_type": "stream",
     "text": [
      "SupportVectorMachine\n",
      "BayessianClassifier\n",
      "SupportVectorMachine\n",
      "SupportVectorMachine\n",
      "BayessianClassifier\n"
     ]
    },
    {
     "name": "stderr",
     "output_type": "stream",
     "text": [
      "[I 2023-06-08 14:32:43,328] Trial 69 finished with value: 1.0 and parameters: {'model_type': 'BayessianClassifier', 'bc_guess_priors': False, 'bc_var_smoothing': 0.008860477408990444}. Best is trial 2 with value: 1.0.\n",
      "[I 2023-06-08 14:32:43,395] Trial 70 finished with value: 0.5 and parameters: {'model_type': 'DecisionTree', 'dt_limit_max_depth': True, 'dt_max_depth': 26, 'dt_limit_max_leaf_nodes': True, 'dt_max_leaf_nodes': 12, 'dt_splitter': 'random', 'dt_criterion': 'entropy', 'dt_min_samples_split': 32, 'dt_min_saples_leaf': 35, 'dt_max_features': 'log2', 'dt_min_impurity_decrease': 0.332887344596422, 'dt_ccp_alpha': 0.6479807158001314}. Best is trial 2 with value: 1.0.\n",
      "[I 2023-06-08 14:32:43,442] Trial 71 finished with value: 1.0 and parameters: {'model_type': 'SupportVectorMachine', 'svm_gamma_cat': 'scale', 'svm_kernel': 'rbf', 'svm_shrinking': True, 'svm_probability': False, 'svm_tol': 0.49070135740806076, 'svm_C': 4.998788065683053}. Best is trial 2 with value: 1.0.\n",
      "[I 2023-06-08 14:32:43,488] Trial 72 finished with value: 1.0 and parameters: {'model_type': 'SupportVectorMachine', 'svm_gamma_cat': 'scale', 'svm_kernel': 'rbf', 'svm_shrinking': True, 'svm_probability': False, 'svm_tol': 0.42368910292764084, 'svm_C': 4.907299347090353}. Best is trial 2 with value: 1.0.\n"
     ]
    },
    {
     "name": "stdout",
     "output_type": "stream",
     "text": [
      "DecisionTree\n",
      "SupportVectorMachine\n",
      "SupportVectorMachine\n",
      "SupportVectorMachine\n"
     ]
    },
    {
     "name": "stderr",
     "output_type": "stream",
     "text": [
      "[I 2023-06-08 14:32:43,548] Trial 73 finished with value: 0.5 and parameters: {'model_type': 'SupportVectorMachine', 'svm_gamma_cat': 'scale', 'svm_kernel': 'sigmoid', 'svm_coef0': 33.9663470778833, 'svm_shrinking': True, 'svm_probability': False, 'svm_tol': 0.49521400117024383, 'svm_C': 4.708077564311985}. Best is trial 2 with value: 1.0.\n",
      "[I 2023-06-08 14:32:43,605] Trial 74 finished with value: 1.0 and parameters: {'model_type': 'NearestNeighbours', 'knn_algorithm': 'kd_tree', 'knn_leaf_size': 41, 'knn_n_neighbors': 72, 'knn_weights': 'uniform', 'knn_p': 2}. Best is trial 2 with value: 1.0.\n",
      "[I 2023-06-08 14:32:43,652] Trial 75 finished with value: 0.9960697197539303 and parameters: {'model_type': 'AdaBoost', 'ab_n_estimators': 78, 'ab_learning_rate': 2.9225398291864373, 'ab_algorithm': 'SAMME'}. Best is trial 2 with value: 1.0.\n",
      "[I 2023-06-08 14:32:43,700] Trial 76 finished with value: 1.0 and parameters: {'model_type': 'SupportVectorMachine', 'svm_gamma_cat': 'scale', 'svm_kernel': 'rbf', 'svm_shrinking': True, 'svm_probability': False, 'svm_tol': 0.4423304320618444, 'svm_C': 4.242887571780593}. Best is trial 2 with value: 1.0.\n",
      "[I 2023-06-08 14:32:43,741] Trial 77 finished with value: 1.0 and parameters: {'model_type': 'BayessianClassifier', 'bc_guess_priors': False, 'bc_var_smoothing': 0.007092394358984229}. Best is trial 2 with value: 1.0.\n"
     ]
    },
    {
     "name": "stdout",
     "output_type": "stream",
     "text": [
      "NearestNeighbours\n",
      "AdaBoost\n",
      "SupportVectorMachine\n",
      "BayessianClassifier\n",
      "SupportVectorMachine\n"
     ]
    },
    {
     "name": "stderr",
     "output_type": "stream",
     "text": [
      "[I 2023-06-08 14:32:43,832] Trial 78 finished with value: 0.9979084973198546 and parameters: {'model_type': 'SupportVectorMachine', 'svm_gamma_cat': 'float', 'svm_gamma_num': 2.276037851522945, 'svm_kernel': 'rbf', 'svm_shrinking': True, 'svm_probability': False, 'svm_tol': 0.33808077549676013, 'svm_C': 4.650228984654642}. Best is trial 2 with value: 1.0.\n",
      "[I 2023-06-08 14:32:43,921] Trial 79 finished with value: 1.0 and parameters: {'model_type': 'NearestNeighbours', 'knn_algorithm': 'kd_tree', 'knn_leaf_size': 177, 'knn_n_neighbors': 176, 'knn_weights': 'distance', 'knn_p': 1}. Best is trial 2 with value: 1.0.\n",
      "[I 2023-06-08 14:32:43,998] Trial 80 finished with value: 0.18796183041335396 and parameters: {'model_type': 'SupportVectorMachine', 'svm_gamma_cat': 'scale', 'svm_kernel': 'sigmoid', 'svm_coef0': 14.394476762054042, 'svm_shrinking': True, 'svm_probability': False, 'svm_tol': 0.5192714604026475, 'svm_C': 4.09663527085339}. Best is trial 2 with value: 1.0.\n"
     ]
    },
    {
     "name": "stdout",
     "output_type": "stream",
     "text": [
      "NearestNeighbours\n",
      "SupportVectorMachine\n",
      "SupportVectorMachine\n"
     ]
    },
    {
     "name": "stderr",
     "output_type": "stream",
     "text": [
      "[I 2023-06-08 14:32:44,091] Trial 81 finished with value: 1.0 and parameters: {'model_type': 'SupportVectorMachine', 'svm_gamma_cat': 'scale', 'svm_kernel': 'linear', 'svm_shrinking': False, 'svm_probability': True, 'svm_tol': 0.8683946726445979, 'svm_C': 2.851322179450815}. Best is trial 2 with value: 1.0.\n",
      "[I 2023-06-08 14:32:44,143] Trial 82 finished with value: 1.0 and parameters: {'model_type': 'SupportVectorMachine', 'svm_gamma_cat': 'scale', 'svm_kernel': 'linear', 'svm_shrinking': False, 'svm_probability': True, 'svm_tol': 0.9284391988061451, 'svm_C': 2.656637449263856}. Best is trial 2 with value: 1.0.\n",
      "[I 2023-06-08 14:32:44,194] Trial 83 finished with value: 1.0 and parameters: {'model_type': 'SupportVectorMachine', 'svm_gamma_cat': 'auto', 'svm_kernel': 'linear', 'svm_shrinking': False, 'svm_probability': True, 'svm_tol': 0.7639732438411913, 'svm_C': 0.5460379784381177}. Best is trial 2 with value: 1.0.\n",
      "[I 2023-06-08 14:32:44,237] Trial 84 finished with value: 1.0 and parameters: {'model_type': 'BayessianClassifier', 'bc_guess_priors': True, 'bc_priors': 0.0019886400154940365, 'bc_var_smoothing': 0.009859680575513887}. Best is trial 2 with value: 1.0.\n"
     ]
    },
    {
     "name": "stdout",
     "output_type": "stream",
     "text": [
      "SupportVectorMachine\n",
      "SupportVectorMachine\n",
      "BayessianClassifier\n",
      "SupportVectorMachine\n"
     ]
    },
    {
     "name": "stderr",
     "output_type": "stream",
     "text": [
      "[I 2023-06-08 14:32:44,297] Trial 85 finished with value: 1.0 and parameters: {'model_type': 'SupportVectorMachine', 'svm_gamma_cat': 'scale', 'svm_kernel': 'poly', 'svm_coef0': 48.83909484847679, 'svm_degree': 5, 'svm_shrinking': False, 'svm_probability': True, 'svm_tol': 0.988401317067638, 'svm_C': 3.45847265529442}. Best is trial 2 with value: 1.0.\n",
      "[I 2023-06-08 14:32:44,347] Trial 86 finished with value: 1.0 and parameters: {'model_type': 'SupportVectorMachine', 'svm_gamma_cat': 'scale', 'svm_kernel': 'linear', 'svm_shrinking': False, 'svm_probability': True, 'svm_tol': 0.5889970079804402, 'svm_C': 3.6262978187668455}. Best is trial 2 with value: 1.0.\n",
      "[I 2023-06-08 14:32:44,410] Trial 87 finished with value: 0.9960697197539303 and parameters: {'model_type': 'DecisionTree', 'dt_limit_max_depth': False, 'dt_limit_max_leaf_nodes': False, 'dt_splitter': 'best', 'dt_criterion': 'log_loss', 'dt_min_samples_split': 19, 'dt_min_saples_leaf': 13, 'dt_max_features': None, 'dt_min_impurity_decrease': 0.13534435586280152, 'dt_ccp_alpha': 0.33377805957888607}. Best is trial 2 with value: 1.0.\n",
      "[I 2023-06-08 14:32:44,474] Trial 88 finished with value: 1.0 and parameters: {'model_type': 'NearestNeighbours', 'knn_algorithm': 'ball_tree', 'knn_leaf_size': 96, 'knn_n_neighbors': 83, 'knn_weights': 'distance', 'knn_p': 3}. Best is trial 2 with value: 1.0.\n"
     ]
    },
    {
     "name": "stdout",
     "output_type": "stream",
     "text": [
      "SupportVectorMachine\n",
      "DecisionTree\n",
      "NearestNeighbours\n",
      "BayessianClassifier\n"
     ]
    },
    {
     "name": "stderr",
     "output_type": "stream",
     "text": [
      "[I 2023-06-08 14:32:44,515] Trial 89 finished with value: 1.0 and parameters: {'model_type': 'BayessianClassifier', 'bc_guess_priors': True, 'bc_priors': 0.7203053358996148, 'bc_var_smoothing': 0.008712198587843882}. Best is trial 2 with value: 1.0.\n",
      "[I 2023-06-08 14:32:44,562] Trial 90 finished with value: 0.9960697197539303 and parameters: {'model_type': 'AdaBoost', 'ab_n_estimators': 39, 'ab_learning_rate': 2.068934225909909, 'ab_algorithm': 'SAMME.R'}. Best is trial 2 with value: 1.0.\n",
      "[I 2023-06-08 14:32:44,624] Trial 91 finished with value: 1.0 and parameters: {'model_type': 'SupportVectorMachine', 'svm_gamma_cat': 'scale', 'svm_kernel': 'poly', 'svm_coef0': 49.92571890075973, 'svm_degree': 5, 'svm_shrinking': True, 'svm_probability': True, 'svm_tol': 0.5929909780682259, 'svm_C': 1.1913785851431187}. Best is trial 2 with value: 1.0.\n",
      "[I 2023-06-08 14:32:44,694] Trial 92 finished with value: 1.0 and parameters: {'model_type': 'SupportVectorMachine', 'svm_gamma_cat': 'scale', 'svm_kernel': 'poly', 'svm_coef0': 36.603353292266156, 'svm_degree': 3, 'svm_shrinking': True, 'svm_probability': True, 'svm_tol': 0.7972779006424946, 'svm_C': 1.5523753562793092}. Best is trial 2 with value: 1.0.\n"
     ]
    },
    {
     "name": "stdout",
     "output_type": "stream",
     "text": [
      "AdaBoost\n",
      "SupportVectorMachine\n",
      "SupportVectorMachine\n",
      "SupportVectorMachine\n"
     ]
    },
    {
     "name": "stderr",
     "output_type": "stream",
     "text": [
      "[I 2023-06-08 14:32:44,758] Trial 93 finished with value: 1.0 and parameters: {'model_type': 'SupportVectorMachine', 'svm_gamma_cat': 'scale', 'svm_kernel': 'poly', 'svm_coef0': 36.522877124424, 'svm_degree': 4, 'svm_shrinking': True, 'svm_probability': True, 'svm_tol': 0.6542426653390289, 'svm_C': 1.8811473303083064}. Best is trial 2 with value: 1.0.\n",
      "[I 2023-06-08 14:32:44,823] Trial 94 finished with value: 1.0 and parameters: {'model_type': 'SupportVectorMachine', 'svm_gamma_cat': 'scale', 'svm_kernel': 'rbf', 'svm_shrinking': True, 'svm_probability': False, 'svm_tol': 0.6844015075595455, 'svm_C': 2.2772144546927655}. Best is trial 2 with value: 1.0.\n",
      "[I 2023-06-08 14:32:44,906] Trial 95 finished with value: 1.0 and parameters: {'model_type': 'SupportVectorMachine', 'svm_gamma_cat': 'float', 'svm_gamma_num': 4.7297253091814015, 'svm_kernel': 'poly', 'svm_coef0': 44.065801868912516, 'svm_degree': 1, 'svm_shrinking': False, 'svm_probability': True, 'svm_tol': 0.2252892574653515, 'svm_C': 1.339110401874103}. Best is trial 2 with value: 1.0.\n"
     ]
    },
    {
     "name": "stdout",
     "output_type": "stream",
     "text": [
      "SupportVectorMachine\n",
      "SupportVectorMachine\n",
      "SupportVectorMachine\n"
     ]
    },
    {
     "name": "stderr",
     "output_type": "stream",
     "text": [
      "[I 2023-06-08 14:32:44,979] Trial 96 finished with value: 0.9997265892002734 and parameters: {'model_type': 'SupportVectorMachine', 'svm_gamma_cat': 'auto', 'svm_kernel': 'rbf', 'svm_shrinking': True, 'svm_probability': False, 'svm_tol': 0.13501915914197593, 'svm_C': 3.065612818216401}. Best is trial 2 with value: 1.0.\n",
      "[I 2023-06-08 14:32:45,011] Trial 97 finished with value: 1.0 and parameters: {'model_type': 'BayessianClassifier', 'bc_guess_priors': False, 'bc_var_smoothing': 0.0058580545862146225}. Best is trial 2 with value: 1.0.\n",
      "[I 2023-06-08 14:32:45,063] Trial 98 finished with value: 1.0 and parameters: {'model_type': 'NearestNeighbours', 'knn_algorithm': 'brute', 'knn_leaf_size': 33, 'knn_n_neighbors': 222, 'knn_weights': 'uniform', 'knn_p': 2}. Best is trial 2 with value: 1.0.\n",
      "[I 2023-06-08 14:32:45,107] Trial 99 finished with value: 1.0 and parameters: {'model_type': 'SupportVectorMachine', 'svm_gamma_cat': 'scale', 'svm_kernel': 'linear', 'svm_shrinking': False, 'svm_probability': True, 'svm_tol': 0.3831463186378513, 'svm_C': 2.4449407906402816}. Best is trial 2 with value: 1.0.\n"
     ]
    },
    {
     "name": "stdout",
     "output_type": "stream",
     "text": [
      "BayessianClassifier\n",
      "NearestNeighbours\n",
      "SupportVectorMachine\n"
     ]
    }
   ],
   "source": [
    "study = optuna.create_study(direction='maximize')\n",
    "study.optimize(objective, n_trials=100)"
   ]
  },
  {
   "cell_type": "code",
   "execution_count": 8,
   "metadata": {},
   "outputs": [
    {
     "name": "stdout",
     "output_type": "stream",
     "text": [
      "{'model_type': 'SupportVectorMachine', 'svm_gamma_cat': 'scale', 'svm_kernel': 'rbf', 'svm_shrinking': False, 'svm_probability': True, 'svm_tol': 0.5265001843502919, 'svm_C': 3.7597516695928137}\n"
     ]
    }
   ],
   "source": [
    "print(study.best_params)"
   ]
  },
  {
   "cell_type": "code",
   "execution_count": 9,
   "metadata": {},
   "outputs": [
    {
     "data": {
      "application/vnd.plotly.v1+json": {
       "config": {
        "plotlyServerURL": "https://plot.ly"
       },
       "data": [
        {
         "mode": "markers",
         "name": "Objective Value",
         "type": "scatter",
         "x": [
          0,
          1,
          2,
          3,
          4,
          5,
          6,
          7,
          8,
          9,
          10,
          11,
          12,
          13,
          14,
          15,
          16,
          17,
          18,
          19,
          20,
          21,
          22,
          23,
          24,
          25,
          26,
          27,
          28,
          29,
          30,
          31,
          32,
          33,
          34,
          35,
          36,
          37,
          38,
          39,
          40,
          41,
          42,
          43,
          44,
          45,
          46,
          47,
          48,
          49,
          50,
          51,
          52,
          53,
          54,
          55,
          56,
          57,
          58,
          59,
          60,
          61,
          62,
          63,
          64,
          65,
          66,
          67,
          68,
          69,
          70,
          71,
          72,
          73,
          74,
          75,
          76,
          77,
          78,
          79,
          80,
          81,
          82,
          83,
          84,
          85,
          86,
          87,
          88,
          89,
          90,
          91,
          92,
          93,
          94,
          95,
          96,
          97,
          98,
          99
         ],
         "y": [
          0.9960697197539303,
          0.5,
          1,
          0.9960697197539303,
          0.9960697197539303,
          0.4218215994531784,
          1,
          1,
          0.9960697197539303,
          1,
          1,
          1,
          1,
          1,
          0.9348427887901571,
          0.5,
          1,
          1,
          1,
          1,
          0.5,
          1,
          1,
          1,
          1,
          1,
          0.9996582365003418,
          1,
          1,
          0.9960697197539303,
          1,
          1,
          1,
          1,
          0.5,
          0.9960697197539303,
          1,
          1,
          1,
          0.9960697197539303,
          0.9366910098212037,
          1,
          1,
          1,
          1,
          0.5,
          1,
          1,
          0.5,
          1,
          1,
          1,
          1,
          1,
          1,
          1,
          0.9960697197539303,
          1,
          0.9996582365003418,
          0.9960697197539303,
          1,
          1,
          1,
          1,
          1,
          1,
          1,
          1,
          1,
          1,
          0.5,
          1,
          1,
          0.5,
          1,
          0.9960697197539303,
          1,
          1,
          0.9979084973198546,
          1,
          0.18796183041335396,
          1,
          1,
          1,
          1,
          1,
          1,
          0.9960697197539303,
          1,
          1,
          0.9960697197539303,
          1,
          1,
          1,
          1,
          1,
          0.9997265892002734,
          1,
          1,
          1
         ]
        },
        {
         "name": "Best Value",
         "type": "scatter",
         "x": [
          0,
          1,
          2,
          3,
          4,
          5,
          6,
          7,
          8,
          9,
          10,
          11,
          12,
          13,
          14,
          15,
          16,
          17,
          18,
          19,
          20,
          21,
          22,
          23,
          24,
          25,
          26,
          27,
          28,
          29,
          30,
          31,
          32,
          33,
          34,
          35,
          36,
          37,
          38,
          39,
          40,
          41,
          42,
          43,
          44,
          45,
          46,
          47,
          48,
          49,
          50,
          51,
          52,
          53,
          54,
          55,
          56,
          57,
          58,
          59,
          60,
          61,
          62,
          63,
          64,
          65,
          66,
          67,
          68,
          69,
          70,
          71,
          72,
          73,
          74,
          75,
          76,
          77,
          78,
          79,
          80,
          81,
          82,
          83,
          84,
          85,
          86,
          87,
          88,
          89,
          90,
          91,
          92,
          93,
          94,
          95,
          96,
          97,
          98,
          99
         ],
         "y": [
          0.9960697197539303,
          0.9960697197539303,
          1,
          1,
          1,
          1,
          1,
          1,
          1,
          1,
          1,
          1,
          1,
          1,
          1,
          1,
          1,
          1,
          1,
          1,
          1,
          1,
          1,
          1,
          1,
          1,
          1,
          1,
          1,
          1,
          1,
          1,
          1,
          1,
          1,
          1,
          1,
          1,
          1,
          1,
          1,
          1,
          1,
          1,
          1,
          1,
          1,
          1,
          1,
          1,
          1,
          1,
          1,
          1,
          1,
          1,
          1,
          1,
          1,
          1,
          1,
          1,
          1,
          1,
          1,
          1,
          1,
          1,
          1,
          1,
          1,
          1,
          1,
          1,
          1,
          1,
          1,
          1,
          1,
          1,
          1,
          1,
          1,
          1,
          1,
          1,
          1,
          1,
          1,
          1,
          1,
          1,
          1,
          1,
          1,
          1,
          1,
          1,
          1,
          1
         ]
        }
       ],
       "layout": {
        "template": {
         "data": {
          "bar": [
           {
            "error_x": {
             "color": "#2a3f5f"
            },
            "error_y": {
             "color": "#2a3f5f"
            },
            "marker": {
             "line": {
              "color": "#E5ECF6",
              "width": 0.5
             },
             "pattern": {
              "fillmode": "overlay",
              "size": 10,
              "solidity": 0.2
             }
            },
            "type": "bar"
           }
          ],
          "barpolar": [
           {
            "marker": {
             "line": {
              "color": "#E5ECF6",
              "width": 0.5
             },
             "pattern": {
              "fillmode": "overlay",
              "size": 10,
              "solidity": 0.2
             }
            },
            "type": "barpolar"
           }
          ],
          "carpet": [
           {
            "aaxis": {
             "endlinecolor": "#2a3f5f",
             "gridcolor": "white",
             "linecolor": "white",
             "minorgridcolor": "white",
             "startlinecolor": "#2a3f5f"
            },
            "baxis": {
             "endlinecolor": "#2a3f5f",
             "gridcolor": "white",
             "linecolor": "white",
             "minorgridcolor": "white",
             "startlinecolor": "#2a3f5f"
            },
            "type": "carpet"
           }
          ],
          "choropleth": [
           {
            "colorbar": {
             "outlinewidth": 0,
             "ticks": ""
            },
            "type": "choropleth"
           }
          ],
          "contour": [
           {
            "colorbar": {
             "outlinewidth": 0,
             "ticks": ""
            },
            "colorscale": [
             [
              0,
              "#0d0887"
             ],
             [
              0.1111111111111111,
              "#46039f"
             ],
             [
              0.2222222222222222,
              "#7201a8"
             ],
             [
              0.3333333333333333,
              "#9c179e"
             ],
             [
              0.4444444444444444,
              "#bd3786"
             ],
             [
              0.5555555555555556,
              "#d8576b"
             ],
             [
              0.6666666666666666,
              "#ed7953"
             ],
             [
              0.7777777777777778,
              "#fb9f3a"
             ],
             [
              0.8888888888888888,
              "#fdca26"
             ],
             [
              1,
              "#f0f921"
             ]
            ],
            "type": "contour"
           }
          ],
          "contourcarpet": [
           {
            "colorbar": {
             "outlinewidth": 0,
             "ticks": ""
            },
            "type": "contourcarpet"
           }
          ],
          "heatmap": [
           {
            "colorbar": {
             "outlinewidth": 0,
             "ticks": ""
            },
            "colorscale": [
             [
              0,
              "#0d0887"
             ],
             [
              0.1111111111111111,
              "#46039f"
             ],
             [
              0.2222222222222222,
              "#7201a8"
             ],
             [
              0.3333333333333333,
              "#9c179e"
             ],
             [
              0.4444444444444444,
              "#bd3786"
             ],
             [
              0.5555555555555556,
              "#d8576b"
             ],
             [
              0.6666666666666666,
              "#ed7953"
             ],
             [
              0.7777777777777778,
              "#fb9f3a"
             ],
             [
              0.8888888888888888,
              "#fdca26"
             ],
             [
              1,
              "#f0f921"
             ]
            ],
            "type": "heatmap"
           }
          ],
          "heatmapgl": [
           {
            "colorbar": {
             "outlinewidth": 0,
             "ticks": ""
            },
            "colorscale": [
             [
              0,
              "#0d0887"
             ],
             [
              0.1111111111111111,
              "#46039f"
             ],
             [
              0.2222222222222222,
              "#7201a8"
             ],
             [
              0.3333333333333333,
              "#9c179e"
             ],
             [
              0.4444444444444444,
              "#bd3786"
             ],
             [
              0.5555555555555556,
              "#d8576b"
             ],
             [
              0.6666666666666666,
              "#ed7953"
             ],
             [
              0.7777777777777778,
              "#fb9f3a"
             ],
             [
              0.8888888888888888,
              "#fdca26"
             ],
             [
              1,
              "#f0f921"
             ]
            ],
            "type": "heatmapgl"
           }
          ],
          "histogram": [
           {
            "marker": {
             "pattern": {
              "fillmode": "overlay",
              "size": 10,
              "solidity": 0.2
             }
            },
            "type": "histogram"
           }
          ],
          "histogram2d": [
           {
            "colorbar": {
             "outlinewidth": 0,
             "ticks": ""
            },
            "colorscale": [
             [
              0,
              "#0d0887"
             ],
             [
              0.1111111111111111,
              "#46039f"
             ],
             [
              0.2222222222222222,
              "#7201a8"
             ],
             [
              0.3333333333333333,
              "#9c179e"
             ],
             [
              0.4444444444444444,
              "#bd3786"
             ],
             [
              0.5555555555555556,
              "#d8576b"
             ],
             [
              0.6666666666666666,
              "#ed7953"
             ],
             [
              0.7777777777777778,
              "#fb9f3a"
             ],
             [
              0.8888888888888888,
              "#fdca26"
             ],
             [
              1,
              "#f0f921"
             ]
            ],
            "type": "histogram2d"
           }
          ],
          "histogram2dcontour": [
           {
            "colorbar": {
             "outlinewidth": 0,
             "ticks": ""
            },
            "colorscale": [
             [
              0,
              "#0d0887"
             ],
             [
              0.1111111111111111,
              "#46039f"
             ],
             [
              0.2222222222222222,
              "#7201a8"
             ],
             [
              0.3333333333333333,
              "#9c179e"
             ],
             [
              0.4444444444444444,
              "#bd3786"
             ],
             [
              0.5555555555555556,
              "#d8576b"
             ],
             [
              0.6666666666666666,
              "#ed7953"
             ],
             [
              0.7777777777777778,
              "#fb9f3a"
             ],
             [
              0.8888888888888888,
              "#fdca26"
             ],
             [
              1,
              "#f0f921"
             ]
            ],
            "type": "histogram2dcontour"
           }
          ],
          "mesh3d": [
           {
            "colorbar": {
             "outlinewidth": 0,
             "ticks": ""
            },
            "type": "mesh3d"
           }
          ],
          "parcoords": [
           {
            "line": {
             "colorbar": {
              "outlinewidth": 0,
              "ticks": ""
             }
            },
            "type": "parcoords"
           }
          ],
          "pie": [
           {
            "automargin": true,
            "type": "pie"
           }
          ],
          "scatter": [
           {
            "fillpattern": {
             "fillmode": "overlay",
             "size": 10,
             "solidity": 0.2
            },
            "type": "scatter"
           }
          ],
          "scatter3d": [
           {
            "line": {
             "colorbar": {
              "outlinewidth": 0,
              "ticks": ""
             }
            },
            "marker": {
             "colorbar": {
              "outlinewidth": 0,
              "ticks": ""
             }
            },
            "type": "scatter3d"
           }
          ],
          "scattercarpet": [
           {
            "marker": {
             "colorbar": {
              "outlinewidth": 0,
              "ticks": ""
             }
            },
            "type": "scattercarpet"
           }
          ],
          "scattergeo": [
           {
            "marker": {
             "colorbar": {
              "outlinewidth": 0,
              "ticks": ""
             }
            },
            "type": "scattergeo"
           }
          ],
          "scattergl": [
           {
            "marker": {
             "colorbar": {
              "outlinewidth": 0,
              "ticks": ""
             }
            },
            "type": "scattergl"
           }
          ],
          "scattermapbox": [
           {
            "marker": {
             "colorbar": {
              "outlinewidth": 0,
              "ticks": ""
             }
            },
            "type": "scattermapbox"
           }
          ],
          "scatterpolar": [
           {
            "marker": {
             "colorbar": {
              "outlinewidth": 0,
              "ticks": ""
             }
            },
            "type": "scatterpolar"
           }
          ],
          "scatterpolargl": [
           {
            "marker": {
             "colorbar": {
              "outlinewidth": 0,
              "ticks": ""
             }
            },
            "type": "scatterpolargl"
           }
          ],
          "scatterternary": [
           {
            "marker": {
             "colorbar": {
              "outlinewidth": 0,
              "ticks": ""
             }
            },
            "type": "scatterternary"
           }
          ],
          "surface": [
           {
            "colorbar": {
             "outlinewidth": 0,
             "ticks": ""
            },
            "colorscale": [
             [
              0,
              "#0d0887"
             ],
             [
              0.1111111111111111,
              "#46039f"
             ],
             [
              0.2222222222222222,
              "#7201a8"
             ],
             [
              0.3333333333333333,
              "#9c179e"
             ],
             [
              0.4444444444444444,
              "#bd3786"
             ],
             [
              0.5555555555555556,
              "#d8576b"
             ],
             [
              0.6666666666666666,
              "#ed7953"
             ],
             [
              0.7777777777777778,
              "#fb9f3a"
             ],
             [
              0.8888888888888888,
              "#fdca26"
             ],
             [
              1,
              "#f0f921"
             ]
            ],
            "type": "surface"
           }
          ],
          "table": [
           {
            "cells": {
             "fill": {
              "color": "#EBF0F8"
             },
             "line": {
              "color": "white"
             }
            },
            "header": {
             "fill": {
              "color": "#C8D4E3"
             },
             "line": {
              "color": "white"
             }
            },
            "type": "table"
           }
          ]
         },
         "layout": {
          "annotationdefaults": {
           "arrowcolor": "#2a3f5f",
           "arrowhead": 0,
           "arrowwidth": 1
          },
          "autotypenumbers": "strict",
          "coloraxis": {
           "colorbar": {
            "outlinewidth": 0,
            "ticks": ""
           }
          },
          "colorscale": {
           "diverging": [
            [
             0,
             "#8e0152"
            ],
            [
             0.1,
             "#c51b7d"
            ],
            [
             0.2,
             "#de77ae"
            ],
            [
             0.3,
             "#f1b6da"
            ],
            [
             0.4,
             "#fde0ef"
            ],
            [
             0.5,
             "#f7f7f7"
            ],
            [
             0.6,
             "#e6f5d0"
            ],
            [
             0.7,
             "#b8e186"
            ],
            [
             0.8,
             "#7fbc41"
            ],
            [
             0.9,
             "#4d9221"
            ],
            [
             1,
             "#276419"
            ]
           ],
           "sequential": [
            [
             0,
             "#0d0887"
            ],
            [
             0.1111111111111111,
             "#46039f"
            ],
            [
             0.2222222222222222,
             "#7201a8"
            ],
            [
             0.3333333333333333,
             "#9c179e"
            ],
            [
             0.4444444444444444,
             "#bd3786"
            ],
            [
             0.5555555555555556,
             "#d8576b"
            ],
            [
             0.6666666666666666,
             "#ed7953"
            ],
            [
             0.7777777777777778,
             "#fb9f3a"
            ],
            [
             0.8888888888888888,
             "#fdca26"
            ],
            [
             1,
             "#f0f921"
            ]
           ],
           "sequentialminus": [
            [
             0,
             "#0d0887"
            ],
            [
             0.1111111111111111,
             "#46039f"
            ],
            [
             0.2222222222222222,
             "#7201a8"
            ],
            [
             0.3333333333333333,
             "#9c179e"
            ],
            [
             0.4444444444444444,
             "#bd3786"
            ],
            [
             0.5555555555555556,
             "#d8576b"
            ],
            [
             0.6666666666666666,
             "#ed7953"
            ],
            [
             0.7777777777777778,
             "#fb9f3a"
            ],
            [
             0.8888888888888888,
             "#fdca26"
            ],
            [
             1,
             "#f0f921"
            ]
           ]
          },
          "colorway": [
           "#636efa",
           "#EF553B",
           "#00cc96",
           "#ab63fa",
           "#FFA15A",
           "#19d3f3",
           "#FF6692",
           "#B6E880",
           "#FF97FF",
           "#FECB52"
          ],
          "font": {
           "color": "#2a3f5f"
          },
          "geo": {
           "bgcolor": "white",
           "lakecolor": "white",
           "landcolor": "#E5ECF6",
           "showlakes": true,
           "showland": true,
           "subunitcolor": "white"
          },
          "hoverlabel": {
           "align": "left"
          },
          "hovermode": "closest",
          "mapbox": {
           "style": "light"
          },
          "paper_bgcolor": "white",
          "plot_bgcolor": "#E5ECF6",
          "polar": {
           "angularaxis": {
            "gridcolor": "white",
            "linecolor": "white",
            "ticks": ""
           },
           "bgcolor": "#E5ECF6",
           "radialaxis": {
            "gridcolor": "white",
            "linecolor": "white",
            "ticks": ""
           }
          },
          "scene": {
           "xaxis": {
            "backgroundcolor": "#E5ECF6",
            "gridcolor": "white",
            "gridwidth": 2,
            "linecolor": "white",
            "showbackground": true,
            "ticks": "",
            "zerolinecolor": "white"
           },
           "yaxis": {
            "backgroundcolor": "#E5ECF6",
            "gridcolor": "white",
            "gridwidth": 2,
            "linecolor": "white",
            "showbackground": true,
            "ticks": "",
            "zerolinecolor": "white"
           },
           "zaxis": {
            "backgroundcolor": "#E5ECF6",
            "gridcolor": "white",
            "gridwidth": 2,
            "linecolor": "white",
            "showbackground": true,
            "ticks": "",
            "zerolinecolor": "white"
           }
          },
          "shapedefaults": {
           "line": {
            "color": "#2a3f5f"
           }
          },
          "ternary": {
           "aaxis": {
            "gridcolor": "white",
            "linecolor": "white",
            "ticks": ""
           },
           "baxis": {
            "gridcolor": "white",
            "linecolor": "white",
            "ticks": ""
           },
           "bgcolor": "#E5ECF6",
           "caxis": {
            "gridcolor": "white",
            "linecolor": "white",
            "ticks": ""
           }
          },
          "title": {
           "x": 0.05
          },
          "xaxis": {
           "automargin": true,
           "gridcolor": "white",
           "linecolor": "white",
           "ticks": "",
           "title": {
            "standoff": 15
           },
           "zerolinecolor": "white",
           "zerolinewidth": 2
          },
          "yaxis": {
           "automargin": true,
           "gridcolor": "white",
           "linecolor": "white",
           "ticks": "",
           "title": {
            "standoff": 15
           },
           "zerolinecolor": "white",
           "zerolinewidth": 2
          }
         }
        },
        "title": {
         "text": "Optimization History Plot"
        },
        "xaxis": {
         "title": {
          "text": "Trial"
         }
        },
        "yaxis": {
         "title": {
          "text": "Objective Value"
         }
        }
       }
      }
     },
     "metadata": {},
     "output_type": "display_data"
    }
   ],
   "source": [
    "optuna.visualization.plot_optimization_history(study)"
   ]
  },
  {
   "cell_type": "code",
   "execution_count": 10,
   "metadata": {},
   "outputs": [
    {
     "data": {
      "application/vnd.plotly.v1+json": {
       "config": {
        "plotlyServerURL": "https://plot.ly"
       },
       "data": [
        {
         "cliponaxis": false,
         "hovertemplate": [
          "model_type (CategoricalDistribution): 0.0<extra></extra>",
          "svm_probability (CategoricalDistribution): 7.905908750599214e-08<extra></extra>",
          "svm_shrinking (CategoricalDistribution): 9.585151276841013e-06<extra></extra>",
          "svm_gamma_cat (CategoricalDistribution): 0.0031305955722542994<extra></extra>",
          "svm_C (FloatDistribution): 0.00814459303584391<extra></extra>",
          "svm_tol (FloatDistribution): 0.019629851452444915<extra></extra>",
          "svm_kernel (CategoricalDistribution): 0.9690852957290926<extra></extra>"
         ],
         "marker": {
          "color": "rgb(66,146,198)"
         },
         "orientation": "h",
         "text": [
          "<0.01",
          "<0.01",
          "<0.01",
          "<0.01",
          "<0.01",
          "0.02",
          "0.97"
         ],
         "textposition": "outside",
         "type": "bar",
         "x": [
          0,
          7.905908750599214e-8,
          0.000009585151276841013,
          0.0031305955722542994,
          0.00814459303584391,
          0.019629851452444915,
          0.9690852957290926
         ],
         "y": [
          "model_type",
          "svm_probability",
          "svm_shrinking",
          "svm_gamma_cat",
          "svm_C",
          "svm_tol",
          "svm_kernel"
         ]
        }
       ],
       "layout": {
        "showlegend": false,
        "template": {
         "data": {
          "bar": [
           {
            "error_x": {
             "color": "#2a3f5f"
            },
            "error_y": {
             "color": "#2a3f5f"
            },
            "marker": {
             "line": {
              "color": "#E5ECF6",
              "width": 0.5
             },
             "pattern": {
              "fillmode": "overlay",
              "size": 10,
              "solidity": 0.2
             }
            },
            "type": "bar"
           }
          ],
          "barpolar": [
           {
            "marker": {
             "line": {
              "color": "#E5ECF6",
              "width": 0.5
             },
             "pattern": {
              "fillmode": "overlay",
              "size": 10,
              "solidity": 0.2
             }
            },
            "type": "barpolar"
           }
          ],
          "carpet": [
           {
            "aaxis": {
             "endlinecolor": "#2a3f5f",
             "gridcolor": "white",
             "linecolor": "white",
             "minorgridcolor": "white",
             "startlinecolor": "#2a3f5f"
            },
            "baxis": {
             "endlinecolor": "#2a3f5f",
             "gridcolor": "white",
             "linecolor": "white",
             "minorgridcolor": "white",
             "startlinecolor": "#2a3f5f"
            },
            "type": "carpet"
           }
          ],
          "choropleth": [
           {
            "colorbar": {
             "outlinewidth": 0,
             "ticks": ""
            },
            "type": "choropleth"
           }
          ],
          "contour": [
           {
            "colorbar": {
             "outlinewidth": 0,
             "ticks": ""
            },
            "colorscale": [
             [
              0,
              "#0d0887"
             ],
             [
              0.1111111111111111,
              "#46039f"
             ],
             [
              0.2222222222222222,
              "#7201a8"
             ],
             [
              0.3333333333333333,
              "#9c179e"
             ],
             [
              0.4444444444444444,
              "#bd3786"
             ],
             [
              0.5555555555555556,
              "#d8576b"
             ],
             [
              0.6666666666666666,
              "#ed7953"
             ],
             [
              0.7777777777777778,
              "#fb9f3a"
             ],
             [
              0.8888888888888888,
              "#fdca26"
             ],
             [
              1,
              "#f0f921"
             ]
            ],
            "type": "contour"
           }
          ],
          "contourcarpet": [
           {
            "colorbar": {
             "outlinewidth": 0,
             "ticks": ""
            },
            "type": "contourcarpet"
           }
          ],
          "heatmap": [
           {
            "colorbar": {
             "outlinewidth": 0,
             "ticks": ""
            },
            "colorscale": [
             [
              0,
              "#0d0887"
             ],
             [
              0.1111111111111111,
              "#46039f"
             ],
             [
              0.2222222222222222,
              "#7201a8"
             ],
             [
              0.3333333333333333,
              "#9c179e"
             ],
             [
              0.4444444444444444,
              "#bd3786"
             ],
             [
              0.5555555555555556,
              "#d8576b"
             ],
             [
              0.6666666666666666,
              "#ed7953"
             ],
             [
              0.7777777777777778,
              "#fb9f3a"
             ],
             [
              0.8888888888888888,
              "#fdca26"
             ],
             [
              1,
              "#f0f921"
             ]
            ],
            "type": "heatmap"
           }
          ],
          "heatmapgl": [
           {
            "colorbar": {
             "outlinewidth": 0,
             "ticks": ""
            },
            "colorscale": [
             [
              0,
              "#0d0887"
             ],
             [
              0.1111111111111111,
              "#46039f"
             ],
             [
              0.2222222222222222,
              "#7201a8"
             ],
             [
              0.3333333333333333,
              "#9c179e"
             ],
             [
              0.4444444444444444,
              "#bd3786"
             ],
             [
              0.5555555555555556,
              "#d8576b"
             ],
             [
              0.6666666666666666,
              "#ed7953"
             ],
             [
              0.7777777777777778,
              "#fb9f3a"
             ],
             [
              0.8888888888888888,
              "#fdca26"
             ],
             [
              1,
              "#f0f921"
             ]
            ],
            "type": "heatmapgl"
           }
          ],
          "histogram": [
           {
            "marker": {
             "pattern": {
              "fillmode": "overlay",
              "size": 10,
              "solidity": 0.2
             }
            },
            "type": "histogram"
           }
          ],
          "histogram2d": [
           {
            "colorbar": {
             "outlinewidth": 0,
             "ticks": ""
            },
            "colorscale": [
             [
              0,
              "#0d0887"
             ],
             [
              0.1111111111111111,
              "#46039f"
             ],
             [
              0.2222222222222222,
              "#7201a8"
             ],
             [
              0.3333333333333333,
              "#9c179e"
             ],
             [
              0.4444444444444444,
              "#bd3786"
             ],
             [
              0.5555555555555556,
              "#d8576b"
             ],
             [
              0.6666666666666666,
              "#ed7953"
             ],
             [
              0.7777777777777778,
              "#fb9f3a"
             ],
             [
              0.8888888888888888,
              "#fdca26"
             ],
             [
              1,
              "#f0f921"
             ]
            ],
            "type": "histogram2d"
           }
          ],
          "histogram2dcontour": [
           {
            "colorbar": {
             "outlinewidth": 0,
             "ticks": ""
            },
            "colorscale": [
             [
              0,
              "#0d0887"
             ],
             [
              0.1111111111111111,
              "#46039f"
             ],
             [
              0.2222222222222222,
              "#7201a8"
             ],
             [
              0.3333333333333333,
              "#9c179e"
             ],
             [
              0.4444444444444444,
              "#bd3786"
             ],
             [
              0.5555555555555556,
              "#d8576b"
             ],
             [
              0.6666666666666666,
              "#ed7953"
             ],
             [
              0.7777777777777778,
              "#fb9f3a"
             ],
             [
              0.8888888888888888,
              "#fdca26"
             ],
             [
              1,
              "#f0f921"
             ]
            ],
            "type": "histogram2dcontour"
           }
          ],
          "mesh3d": [
           {
            "colorbar": {
             "outlinewidth": 0,
             "ticks": ""
            },
            "type": "mesh3d"
           }
          ],
          "parcoords": [
           {
            "line": {
             "colorbar": {
              "outlinewidth": 0,
              "ticks": ""
             }
            },
            "type": "parcoords"
           }
          ],
          "pie": [
           {
            "automargin": true,
            "type": "pie"
           }
          ],
          "scatter": [
           {
            "fillpattern": {
             "fillmode": "overlay",
             "size": 10,
             "solidity": 0.2
            },
            "type": "scatter"
           }
          ],
          "scatter3d": [
           {
            "line": {
             "colorbar": {
              "outlinewidth": 0,
              "ticks": ""
             }
            },
            "marker": {
             "colorbar": {
              "outlinewidth": 0,
              "ticks": ""
             }
            },
            "type": "scatter3d"
           }
          ],
          "scattercarpet": [
           {
            "marker": {
             "colorbar": {
              "outlinewidth": 0,
              "ticks": ""
             }
            },
            "type": "scattercarpet"
           }
          ],
          "scattergeo": [
           {
            "marker": {
             "colorbar": {
              "outlinewidth": 0,
              "ticks": ""
             }
            },
            "type": "scattergeo"
           }
          ],
          "scattergl": [
           {
            "marker": {
             "colorbar": {
              "outlinewidth": 0,
              "ticks": ""
             }
            },
            "type": "scattergl"
           }
          ],
          "scattermapbox": [
           {
            "marker": {
             "colorbar": {
              "outlinewidth": 0,
              "ticks": ""
             }
            },
            "type": "scattermapbox"
           }
          ],
          "scatterpolar": [
           {
            "marker": {
             "colorbar": {
              "outlinewidth": 0,
              "ticks": ""
             }
            },
            "type": "scatterpolar"
           }
          ],
          "scatterpolargl": [
           {
            "marker": {
             "colorbar": {
              "outlinewidth": 0,
              "ticks": ""
             }
            },
            "type": "scatterpolargl"
           }
          ],
          "scatterternary": [
           {
            "marker": {
             "colorbar": {
              "outlinewidth": 0,
              "ticks": ""
             }
            },
            "type": "scatterternary"
           }
          ],
          "surface": [
           {
            "colorbar": {
             "outlinewidth": 0,
             "ticks": ""
            },
            "colorscale": [
             [
              0,
              "#0d0887"
             ],
             [
              0.1111111111111111,
              "#46039f"
             ],
             [
              0.2222222222222222,
              "#7201a8"
             ],
             [
              0.3333333333333333,
              "#9c179e"
             ],
             [
              0.4444444444444444,
              "#bd3786"
             ],
             [
              0.5555555555555556,
              "#d8576b"
             ],
             [
              0.6666666666666666,
              "#ed7953"
             ],
             [
              0.7777777777777778,
              "#fb9f3a"
             ],
             [
              0.8888888888888888,
              "#fdca26"
             ],
             [
              1,
              "#f0f921"
             ]
            ],
            "type": "surface"
           }
          ],
          "table": [
           {
            "cells": {
             "fill": {
              "color": "#EBF0F8"
             },
             "line": {
              "color": "white"
             }
            },
            "header": {
             "fill": {
              "color": "#C8D4E3"
             },
             "line": {
              "color": "white"
             }
            },
            "type": "table"
           }
          ]
         },
         "layout": {
          "annotationdefaults": {
           "arrowcolor": "#2a3f5f",
           "arrowhead": 0,
           "arrowwidth": 1
          },
          "autotypenumbers": "strict",
          "coloraxis": {
           "colorbar": {
            "outlinewidth": 0,
            "ticks": ""
           }
          },
          "colorscale": {
           "diverging": [
            [
             0,
             "#8e0152"
            ],
            [
             0.1,
             "#c51b7d"
            ],
            [
             0.2,
             "#de77ae"
            ],
            [
             0.3,
             "#f1b6da"
            ],
            [
             0.4,
             "#fde0ef"
            ],
            [
             0.5,
             "#f7f7f7"
            ],
            [
             0.6,
             "#e6f5d0"
            ],
            [
             0.7,
             "#b8e186"
            ],
            [
             0.8,
             "#7fbc41"
            ],
            [
             0.9,
             "#4d9221"
            ],
            [
             1,
             "#276419"
            ]
           ],
           "sequential": [
            [
             0,
             "#0d0887"
            ],
            [
             0.1111111111111111,
             "#46039f"
            ],
            [
             0.2222222222222222,
             "#7201a8"
            ],
            [
             0.3333333333333333,
             "#9c179e"
            ],
            [
             0.4444444444444444,
             "#bd3786"
            ],
            [
             0.5555555555555556,
             "#d8576b"
            ],
            [
             0.6666666666666666,
             "#ed7953"
            ],
            [
             0.7777777777777778,
             "#fb9f3a"
            ],
            [
             0.8888888888888888,
             "#fdca26"
            ],
            [
             1,
             "#f0f921"
            ]
           ],
           "sequentialminus": [
            [
             0,
             "#0d0887"
            ],
            [
             0.1111111111111111,
             "#46039f"
            ],
            [
             0.2222222222222222,
             "#7201a8"
            ],
            [
             0.3333333333333333,
             "#9c179e"
            ],
            [
             0.4444444444444444,
             "#bd3786"
            ],
            [
             0.5555555555555556,
             "#d8576b"
            ],
            [
             0.6666666666666666,
             "#ed7953"
            ],
            [
             0.7777777777777778,
             "#fb9f3a"
            ],
            [
             0.8888888888888888,
             "#fdca26"
            ],
            [
             1,
             "#f0f921"
            ]
           ]
          },
          "colorway": [
           "#636efa",
           "#EF553B",
           "#00cc96",
           "#ab63fa",
           "#FFA15A",
           "#19d3f3",
           "#FF6692",
           "#B6E880",
           "#FF97FF",
           "#FECB52"
          ],
          "font": {
           "color": "#2a3f5f"
          },
          "geo": {
           "bgcolor": "white",
           "lakecolor": "white",
           "landcolor": "#E5ECF6",
           "showlakes": true,
           "showland": true,
           "subunitcolor": "white"
          },
          "hoverlabel": {
           "align": "left"
          },
          "hovermode": "closest",
          "mapbox": {
           "style": "light"
          },
          "paper_bgcolor": "white",
          "plot_bgcolor": "#E5ECF6",
          "polar": {
           "angularaxis": {
            "gridcolor": "white",
            "linecolor": "white",
            "ticks": ""
           },
           "bgcolor": "#E5ECF6",
           "radialaxis": {
            "gridcolor": "white",
            "linecolor": "white",
            "ticks": ""
           }
          },
          "scene": {
           "xaxis": {
            "backgroundcolor": "#E5ECF6",
            "gridcolor": "white",
            "gridwidth": 2,
            "linecolor": "white",
            "showbackground": true,
            "ticks": "",
            "zerolinecolor": "white"
           },
           "yaxis": {
            "backgroundcolor": "#E5ECF6",
            "gridcolor": "white",
            "gridwidth": 2,
            "linecolor": "white",
            "showbackground": true,
            "ticks": "",
            "zerolinecolor": "white"
           },
           "zaxis": {
            "backgroundcolor": "#E5ECF6",
            "gridcolor": "white",
            "gridwidth": 2,
            "linecolor": "white",
            "showbackground": true,
            "ticks": "",
            "zerolinecolor": "white"
           }
          },
          "shapedefaults": {
           "line": {
            "color": "#2a3f5f"
           }
          },
          "ternary": {
           "aaxis": {
            "gridcolor": "white",
            "linecolor": "white",
            "ticks": ""
           },
           "baxis": {
            "gridcolor": "white",
            "linecolor": "white",
            "ticks": ""
           },
           "bgcolor": "#E5ECF6",
           "caxis": {
            "gridcolor": "white",
            "linecolor": "white",
            "ticks": ""
           }
          },
          "title": {
           "x": 0.05
          },
          "xaxis": {
           "automargin": true,
           "gridcolor": "white",
           "linecolor": "white",
           "ticks": "",
           "title": {
            "standoff": 15
           },
           "zerolinecolor": "white",
           "zerolinewidth": 2
          },
          "yaxis": {
           "automargin": true,
           "gridcolor": "white",
           "linecolor": "white",
           "ticks": "",
           "title": {
            "standoff": 15
           },
           "zerolinecolor": "white",
           "zerolinewidth": 2
          }
         }
        },
        "title": {
         "text": "Hyperparameter Importances"
        },
        "xaxis": {
         "title": {
          "text": "Importance for Objective Value"
         }
        },
        "yaxis": {
         "title": {
          "text": "Hyperparameter"
         }
        }
       }
      }
     },
     "metadata": {},
     "output_type": "display_data"
    }
   ],
   "source": [
    "optuna.visualization.plot_param_importances(study, params=list(study.best_params.keys()))"
   ]
  },
  {
   "cell_type": "code",
   "execution_count": 11,
   "metadata": {},
   "outputs": [
    {
     "name": "stderr",
     "output_type": "stream",
     "text": [
      "[I 2023-06-08 14:32:55,805] A new study created in memory with name: no-name-7cc2e979-5b93-4e00-a8bd-52cf0e5f9988\n",
      "[I 2023-06-08 14:32:55,846] Trial 0 finished with value: 0.9960697197539303 and parameters: {'model_type': 'DecisionTree', 'dt_limit_max_depth': True, 'dt_max_depth': 98, 'dt_limit_max_leaf_nodes': True, 'dt_max_leaf_nodes': 119, 'dt_splitter': 'best', 'dt_criterion': 'gini', 'dt_min_samples_split': 40, 'dt_min_saples_leaf': 19, 'dt_max_features': None, 'dt_min_impurity_decrease': 0.09390420271320782, 'dt_ccp_alpha': 0.2881671478120357}. Best is trial 0 with value: 0.9960697197539303.\n",
      "[I 2023-06-08 14:32:55,891] Trial 1 finished with value: 1.0 and parameters: {'model_type': 'NearestNeighbours', 'knn_algorithm': 'auto', 'knn_leaf_size': 86, 'knn_n_neighbors': 202, 'knn_weights': 'uniform', 'knn_p': 3}. Best is trial 1 with value: 1.0.\n",
      "[I 2023-06-08 14:32:55,937] Trial 2 finished with value: 1.0 and parameters: {'model_type': 'NearestNeighbours', 'knn_algorithm': 'auto', 'knn_leaf_size': 70, 'knn_n_neighbors': 282, 'knn_weights': 'distance', 'knn_p': 3}. Best is trial 1 with value: 1.0.\n",
      "[I 2023-06-08 14:32:55,969] Trial 3 finished with value: 1.0 and parameters: {'model_type': 'BayessianClassifier', 'bc_guess_priors': False, 'bc_var_smoothing': 0.009734594259082928}. Best is trial 1 with value: 1.0.\n",
      "[I 2023-06-08 14:32:56,012] Trial 4 finished with value: 0.9960697197539303 and parameters: {'model_type': 'AdaBoost', 'ab_n_estimators': 69, 'ab_learning_rate': 0.5794321218320032, 'ab_algorithm': 'SAMME.R'}. Best is trial 1 with value: 1.0.\n"
     ]
    },
    {
     "name": "stdout",
     "output_type": "stream",
     "text": [
      "DecisionTree\n",
      "NearestNeighbours\n",
      "NearestNeighbours\n",
      "BayessianClassifier\n",
      "AdaBoost\n",
      "SupportVectorMachine\n"
     ]
    },
    {
     "name": "stderr",
     "output_type": "stream",
     "text": [
      "[I 2023-06-08 14:32:56,053] Trial 5 finished with value: 1.0 and parameters: {'model_type': 'SupportVectorMachine', 'svm_gamma_cat': 'scale', 'svm_kernel': 'poly', 'svm_coef0': 36.2250001095229, 'svm_degree': 4, 'svm_shrinking': False, 'svm_probability': False, 'svm_tol': 0.4202663081521921, 'svm_C': 2.390828886990141}. Best is trial 1 with value: 1.0.\n",
      "[I 2023-06-08 14:32:56,090] Trial 6 finished with value: 0.9960697197539303 and parameters: {'model_type': 'AdaBoost', 'ab_n_estimators': 58, 'ab_learning_rate': 2.2744810713741876, 'ab_algorithm': 'SAMME.R'}. Best is trial 1 with value: 1.0.\n",
      "[I 2023-06-08 14:32:56,137] Trial 7 finished with value: 0.5 and parameters: {'model_type': 'DecisionTree', 'dt_limit_max_depth': False, 'dt_limit_max_leaf_nodes': True, 'dt_max_leaf_nodes': 125, 'dt_splitter': 'random', 'dt_criterion': 'log_loss', 'dt_min_samples_split': 19, 'dt_min_saples_leaf': 2, 'dt_max_features': 'log2', 'dt_min_impurity_decrease': 0.4575127023086554, 'dt_ccp_alpha': 0.7255666216664314}. Best is trial 1 with value: 1.0.\n",
      "[I 2023-06-08 14:32:56,199] Trial 8 finished with value: 1.0 and parameters: {'model_type': 'NearestNeighbours', 'knn_algorithm': 'auto', 'knn_leaf_size': 117, 'knn_n_neighbors': 75, 'knn_weights': 'distance', 'knn_p': 2}. Best is trial 1 with value: 1.0.\n",
      "[I 2023-06-08 14:32:56,258] Trial 9 finished with value: 0.5 and parameters: {'model_type': 'DecisionTree', 'dt_limit_max_depth': False, 'dt_limit_max_leaf_nodes': False, 'dt_splitter': 'random', 'dt_criterion': 'entropy', 'dt_min_samples_split': 38, 'dt_min_saples_leaf': 29, 'dt_max_features': 'sqrt', 'dt_min_impurity_decrease': 0.04031983601288003, 'dt_ccp_alpha': 0.95555897499894}. Best is trial 1 with value: 1.0.\n"
     ]
    },
    {
     "name": "stdout",
     "output_type": "stream",
     "text": [
      "AdaBoost\n",
      "DecisionTree\n",
      "NearestNeighbours\n",
      "DecisionTree\n",
      "BayessianClassifier\n"
     ]
    },
    {
     "name": "stderr",
     "output_type": "stream",
     "text": [
      "[I 2023-06-08 14:32:56,293] Trial 10 finished with value: 1.0 and parameters: {'model_type': 'BayessianClassifier', 'bc_guess_priors': True, 'bc_priors': 0.2624024528483213, 'bc_var_smoothing': 0.007191570734054847}. Best is trial 1 with value: 1.0.\n",
      "[I 2023-06-08 14:32:56,332] Trial 11 finished with value: 0.9960697197539303 and parameters: {'model_type': 'AdaBoost', 'ab_n_estimators': 32, 'ab_learning_rate': 1.3331895343889586, 'ab_algorithm': 'SAMME.R'}. Best is trial 1 with value: 1.0.\n",
      "[I 2023-06-08 14:32:56,363] Trial 12 finished with value: 1.0 and parameters: {'model_type': 'SupportVectorMachine', 'svm_gamma_cat': 'auto', 'svm_kernel': 'poly', 'svm_coef0': 31.49656550720801, 'svm_degree': 1, 'svm_shrinking': False, 'svm_probability': True, 'svm_tol': 0.19669920749320105, 'svm_C': 1.4315476452025202}. Best is trial 1 with value: 1.0.\n",
      "[I 2023-06-08 14:32:56,387] Trial 13 finished with value: 1.0 and parameters: {'model_type': 'BayessianClassifier', 'bc_guess_priors': False, 'bc_var_smoothing': 0.005474366496754737}. Best is trial 1 with value: 1.0.\n",
      "[I 2023-06-08 14:32:56,421] Trial 14 finished with value: 0.9960697197539303 and parameters: {'model_type': 'DecisionTree', 'dt_limit_max_depth': True, 'dt_max_depth': 74, 'dt_limit_max_leaf_nodes': False, 'dt_splitter': 'best', 'dt_criterion': 'entropy', 'dt_min_samples_split': 44, 'dt_min_saples_leaf': 3, 'dt_max_features': 'log2', 'dt_min_impurity_decrease': 0.35418508214963323, 'dt_ccp_alpha': 0.15708258889249804}. Best is trial 1 with value: 1.0.\n",
      "[I 2023-06-08 14:32:56,462] Trial 15 finished with value: 1.0 and parameters: {'model_type': 'BayessianClassifier', 'bc_guess_priors': True, 'bc_priors': 0.09410315064060226, 'bc_var_smoothing': 0.0011168878384839234}. Best is trial 1 with value: 1.0.\n"
     ]
    },
    {
     "name": "stdout",
     "output_type": "stream",
     "text": [
      "AdaBoost\n",
      "SupportVectorMachine\n",
      "BayessianClassifier\n",
      "DecisionTree\n",
      "BayessianClassifier\n",
      "DecisionTree\n"
     ]
    },
    {
     "name": "stderr",
     "output_type": "stream",
     "text": [
      "[I 2023-06-08 14:32:56,505] Trial 16 finished with value: 0.5 and parameters: {'model_type': 'DecisionTree', 'dt_limit_max_depth': True, 'dt_max_depth': 53, 'dt_limit_max_leaf_nodes': True, 'dt_max_leaf_nodes': 155, 'dt_splitter': 'random', 'dt_criterion': 'log_loss', 'dt_min_samples_split': 21, 'dt_min_saples_leaf': 38, 'dt_max_features': 'sqrt', 'dt_min_impurity_decrease': 0.360358798863145, 'dt_ccp_alpha': 0.13356331667637633}. Best is trial 1 with value: 1.0.\n",
      "[I 2023-06-08 14:32:56,554] Trial 17 finished with value: 0.5 and parameters: {'model_type': 'DecisionTree', 'dt_limit_max_depth': True, 'dt_max_depth': 66, 'dt_limit_max_leaf_nodes': False, 'dt_splitter': 'random', 'dt_criterion': 'entropy', 'dt_min_samples_split': 3, 'dt_min_saples_leaf': 1, 'dt_max_features': 'sqrt', 'dt_min_impurity_decrease': 0.013221313828927606, 'dt_ccp_alpha': 0.7476821664220852}. Best is trial 1 with value: 1.0.\n",
      "[I 2023-06-08 14:32:56,601] Trial 18 finished with value: 0.8879870129870129 and parameters: {'model_type': 'DecisionTree', 'dt_limit_max_depth': False, 'dt_limit_max_leaf_nodes': True, 'dt_max_leaf_nodes': 125, 'dt_splitter': 'random', 'dt_criterion': 'gini', 'dt_min_samples_split': 11, 'dt_min_saples_leaf': 13, 'dt_max_features': None, 'dt_min_impurity_decrease': 0.024450990315052712, 'dt_ccp_alpha': 0.10937801029275063}. Best is trial 1 with value: 1.0.\n",
      "[I 2023-06-08 14:32:56,637] Trial 19 finished with value: 1.0 and parameters: {'model_type': 'BayessianClassifier', 'bc_guess_priors': True, 'bc_priors': 0.9781643985103268, 'bc_var_smoothing': 0.001955414363288514}. Best is trial 1 with value: 1.0.\n"
     ]
    },
    {
     "name": "stdout",
     "output_type": "stream",
     "text": [
      "DecisionTree\n",
      "DecisionTree\n",
      "BayessianClassifier\n",
      "SupportVectorMachine\n"
     ]
    },
    {
     "name": "stderr",
     "output_type": "stream",
     "text": [
      "[I 2023-06-08 14:32:56,732] Trial 20 finished with value: 0.9997265892002734 and parameters: {'model_type': 'SupportVectorMachine', 'svm_gamma_cat': 'auto', 'svm_kernel': 'rbf', 'svm_shrinking': True, 'svm_probability': True, 'svm_tol': 0.909856803214932, 'svm_C': 3.2671795764741085}. Best is trial 1 with value: 1.0.\n",
      "[I 2023-06-08 14:32:56,765] Trial 21 finished with value: 0.9960697197539303 and parameters: {'model_type': 'AdaBoost', 'ab_n_estimators': 63, 'ab_learning_rate': 1.6887158096710504, 'ab_algorithm': 'SAMME.R'}. Best is trial 1 with value: 1.0.\n",
      "[I 2023-06-08 14:32:56,791] Trial 22 finished with value: 0.9960697197539303 and parameters: {'model_type': 'AdaBoost', 'ab_n_estimators': 8, 'ab_learning_rate': 0.6722342417688925, 'ab_algorithm': 'SAMME'}. Best is trial 1 with value: 1.0.\n",
      "[I 2023-06-08 14:32:56,816] Trial 23 finished with value: 0.9960697197539303 and parameters: {'model_type': 'AdaBoost', 'ab_n_estimators': 25, 'ab_learning_rate': 2.6817800876433577, 'ab_algorithm': 'SAMME'}. Best is trial 1 with value: 1.0.\n",
      "[I 2023-06-08 14:32:56,840] Trial 24 finished with value: 0.9960697197539303 and parameters: {'model_type': 'AdaBoost', 'ab_n_estimators': 98, 'ab_learning_rate': 0.840790328631193, 'ab_algorithm': 'SAMME'}. Best is trial 1 with value: 1.0.\n",
      "[I 2023-06-08 14:32:56,865] Trial 25 finished with value: 0.9960697197539303 and parameters: {'model_type': 'DecisionTree', 'dt_limit_max_depth': False, 'dt_limit_max_leaf_nodes': True, 'dt_max_leaf_nodes': 285, 'dt_splitter': 'best', 'dt_criterion': 'gini', 'dt_min_samples_split': 26, 'dt_min_saples_leaf': 41, 'dt_max_features': 'sqrt', 'dt_min_impurity_decrease': 0.04893909923985351, 'dt_ccp_alpha': 0.22882107273741548}. Best is trial 1 with value: 1.0.\n",
      "[I 2023-06-08 14:32:56,890] Trial 26 finished with value: 0.9960697197539303 and parameters: {'model_type': 'AdaBoost', 'ab_n_estimators': 88, 'ab_learning_rate': 0.6291612846387887, 'ab_algorithm': 'SAMME.R'}. Best is trial 1 with value: 1.0.\n",
      "[I 2023-06-08 14:32:56,911] Trial 27 finished with value: 1.0 and parameters: {'model_type': 'BayessianClassifier', 'bc_guess_priors': True, 'bc_priors': 0.6440944293097526, 'bc_var_smoothing': 0.005727835951776493}. Best is trial 1 with value: 1.0.\n"
     ]
    },
    {
     "name": "stdout",
     "output_type": "stream",
     "text": [
      "AdaBoost\n",
      "AdaBoost\n",
      "AdaBoost\n",
      "AdaBoost\n",
      "DecisionTree\n",
      "AdaBoost\n",
      "BayessianClassifier\n",
      "NearestNeighbours\n"
     ]
    },
    {
     "name": "stderr",
     "output_type": "stream",
     "text": [
      "[I 2023-06-08 14:32:56,942] Trial 28 finished with value: 1.0 and parameters: {'model_type': 'NearestNeighbours', 'knn_algorithm': 'auto', 'knn_leaf_size': 44, 'knn_n_neighbors': 95, 'knn_weights': 'uniform', 'knn_p': 3}. Best is trial 1 with value: 1.0.\n",
      "[I 2023-06-08 14:32:56,975] Trial 29 finished with value: 1.0 and parameters: {'model_type': 'NearestNeighbours', 'knn_algorithm': 'ball_tree', 'knn_leaf_size': 167, 'knn_n_neighbors': 392, 'knn_weights': 'distance', 'knn_p': 1}. Best is trial 1 with value: 1.0.\n",
      "[I 2023-06-08 14:32:56,997] Trial 30 finished with value: 0.9960697197539303 and parameters: {'model_type': 'AdaBoost', 'ab_n_estimators': 89, 'ab_learning_rate': 1.516171625061197, 'ab_algorithm': 'SAMME'}. Best is trial 1 with value: 1.0.\n",
      "[I 2023-06-08 14:32:57,021] Trial 31 finished with value: 1.0 and parameters: {'model_type': 'SupportVectorMachine', 'svm_gamma_cat': 'scale', 'svm_kernel': 'rbf', 'svm_shrinking': True, 'svm_probability': False, 'svm_tol': 0.23313498667354435, 'svm_C': 3.7292562374187903}. Best is trial 1 with value: 1.0.\n",
      "[I 2023-06-08 14:32:57,071] Trial 32 finished with value: 0.5 and parameters: {'model_type': 'SupportVectorMachine', 'svm_gamma_cat': 'auto', 'svm_kernel': 'sigmoid', 'svm_coef0': 49.83983045483358, 'svm_shrinking': True, 'svm_probability': True, 'svm_tol': 0.9275006378000727, 'svm_C': 2.4178227406272494}. Best is trial 1 with value: 1.0.\n",
      "[I 2023-06-08 14:32:57,098] Trial 33 finished with value: 0.9960697197539303 and parameters: {'model_type': 'AdaBoost', 'ab_n_estimators': 18, 'ab_learning_rate': 1.415493580032479, 'ab_algorithm': 'SAMME.R'}. Best is trial 1 with value: 1.0.\n",
      "[I 2023-06-08 14:32:57,124] Trial 34 finished with value: 0.9960697197539303 and parameters: {'model_type': 'DecisionTree', 'dt_limit_max_depth': True, 'dt_max_depth': 90, 'dt_limit_max_leaf_nodes': False, 'dt_splitter': 'best', 'dt_criterion': 'entropy', 'dt_min_samples_split': 6, 'dt_min_saples_leaf': 46, 'dt_max_features': None, 'dt_min_impurity_decrease': 0.4080408825431605, 'dt_ccp_alpha': 0.23850051978461384}. Best is trial 1 with value: 1.0.\n"
     ]
    },
    {
     "name": "stdout",
     "output_type": "stream",
     "text": [
      "NearestNeighbours\n",
      "AdaBoost\n",
      "SupportVectorMachine\n",
      "SupportVectorMachine\n",
      "AdaBoost\n",
      "DecisionTree\n",
      "NearestNeighbours\n"
     ]
    },
    {
     "name": "stderr",
     "output_type": "stream",
     "text": [
      "[I 2023-06-08 14:32:57,158] Trial 35 finished with value: 1.0 and parameters: {'model_type': 'NearestNeighbours', 'knn_algorithm': 'kd_tree', 'knn_leaf_size': 178, 'knn_n_neighbors': 138, 'knn_weights': 'distance', 'knn_p': 1}. Best is trial 1 with value: 1.0.\n",
      "[I 2023-06-08 14:32:57,199] Trial 36 finished with value: 1.0 and parameters: {'model_type': 'SupportVectorMachine', 'svm_gamma_cat': 'scale', 'svm_kernel': 'poly', 'svm_coef0': 34.533824290744725, 'svm_degree': 3, 'svm_shrinking': True, 'svm_probability': False, 'svm_tol': 0.07160369905792582, 'svm_C': 2.322142558803043}. Best is trial 1 with value: 1.0.\n",
      "[I 2023-06-08 14:32:57,227] Trial 37 finished with value: 1.0 and parameters: {'model_type': 'BayessianClassifier', 'bc_guess_priors': False, 'bc_var_smoothing': 0.0014194231059981423}. Best is trial 1 with value: 1.0.\n",
      "[I 2023-06-08 14:32:57,288] Trial 38 finished with value: 0.5 and parameters: {'model_type': 'DecisionTree', 'dt_limit_max_depth': False, 'dt_limit_max_leaf_nodes': True, 'dt_max_leaf_nodes': 85, 'dt_splitter': 'best', 'dt_criterion': 'log_loss', 'dt_min_samples_split': 20, 'dt_min_saples_leaf': 4, 'dt_max_features': 'sqrt', 'dt_min_impurity_decrease': 0.12046209242798966, 'dt_ccp_alpha': 0.9464331994993096}. Best is trial 1 with value: 1.0.\n",
      "[I 2023-06-08 14:32:57,334] Trial 39 finished with value: 1.0 and parameters: {'model_type': 'SupportVectorMachine', 'svm_gamma_cat': 'scale', 'svm_kernel': 'poly', 'svm_coef0': 21.488255984331715, 'svm_degree': 3, 'svm_shrinking': False, 'svm_probability': False, 'svm_tol': 0.7804072489025682, 'svm_C': 1.1579284186421022}. Best is trial 1 with value: 1.0.\n"
     ]
    },
    {
     "name": "stdout",
     "output_type": "stream",
     "text": [
      "SupportVectorMachine\n",
      "BayessianClassifier\n",
      "DecisionTree\n",
      "SupportVectorMachine\n",
      "SupportVectorMachine\n"
     ]
    },
    {
     "name": "stderr",
     "output_type": "stream",
     "text": [
      "[I 2023-06-08 14:32:57,469] Trial 40 finished with value: 0.5 and parameters: {'model_type': 'SupportVectorMachine', 'svm_gamma_cat': 'float', 'svm_gamma_num': 3.367028454652792, 'svm_kernel': 'sigmoid', 'svm_coef0': 17.070743232135385, 'svm_shrinking': False, 'svm_probability': True, 'svm_tol': 0.9626663432835602, 'svm_C': 2.344529533144717}. Best is trial 1 with value: 1.0.\n",
      "[I 2023-06-08 14:32:57,524] Trial 41 finished with value: 1.0 and parameters: {'model_type': 'NearestNeighbours', 'knn_algorithm': 'ball_tree', 'knn_leaf_size': 99, 'knn_n_neighbors': 253, 'knn_weights': 'distance', 'knn_p': 1}. Best is trial 1 with value: 1.0.\n",
      "[I 2023-06-08 14:32:57,570] Trial 42 finished with value: 0.9960697197539303 and parameters: {'model_type': 'DecisionTree', 'dt_limit_max_depth': True, 'dt_max_depth': 97, 'dt_limit_max_leaf_nodes': False, 'dt_splitter': 'best', 'dt_criterion': 'entropy', 'dt_min_samples_split': 48, 'dt_min_saples_leaf': 33, 'dt_max_features': 'log2', 'dt_min_impurity_decrease': 0.4246253995300406, 'dt_ccp_alpha': 0.3108184781754678}. Best is trial 1 with value: 1.0.\n",
      "[I 2023-06-08 14:32:57,596] Trial 43 finished with value: 1.0 and parameters: {'model_type': 'BayessianClassifier', 'bc_guess_priors': True, 'bc_priors': 0.15166506009014402, 'bc_var_smoothing': 0.006465327090275463}. Best is trial 1 with value: 1.0.\n",
      "[I 2023-06-08 14:32:57,619] Trial 44 finished with value: 0.9960697197539303 and parameters: {'model_type': 'AdaBoost', 'ab_n_estimators': 17, 'ab_learning_rate': 0.39250829252611064, 'ab_algorithm': 'SAMME.R'}. Best is trial 1 with value: 1.0.\n",
      "[I 2023-06-08 14:32:57,648] Trial 45 finished with value: 0.9830485304169514 and parameters: {'model_type': 'NearestNeighbours', 'knn_algorithm': 'ball_tree', 'knn_leaf_size': 152, 'knn_n_neighbors': 332, 'knn_weights': 'uniform', 'knn_p': 1}. Best is trial 1 with value: 1.0.\n"
     ]
    },
    {
     "name": "stdout",
     "output_type": "stream",
     "text": [
      "NearestNeighbours\n",
      "DecisionTree\n",
      "BayessianClassifier\n",
      "AdaBoost\n",
      "NearestNeighbours\n",
      "BayessianClassifier\n"
     ]
    },
    {
     "name": "stderr",
     "output_type": "stream",
     "text": [
      "[I 2023-06-08 14:32:57,704] Trial 46 finished with value: 1.0 and parameters: {'model_type': 'BayessianClassifier', 'bc_guess_priors': False, 'bc_var_smoothing': 0.004496930231017352}. Best is trial 1 with value: 1.0.\n",
      "[I 2023-06-08 14:32:57,742] Trial 47 finished with value: 0.9960697197539303 and parameters: {'model_type': 'AdaBoost', 'ab_n_estimators': 11, 'ab_learning_rate': 0.15602237676533168, 'ab_algorithm': 'SAMME.R'}. Best is trial 1 with value: 1.0.\n",
      "[I 2023-06-08 14:32:57,783] Trial 48 finished with value: 0.9997949419002051 and parameters: {'model_type': 'SupportVectorMachine', 'svm_gamma_cat': 'auto', 'svm_kernel': 'rbf', 'svm_shrinking': False, 'svm_probability': False, 'svm_tol': 0.75045202280063, 'svm_C': 0.3117286128808546}. Best is trial 1 with value: 1.0.\n",
      "[I 2023-06-08 14:32:57,824] Trial 49 finished with value: 0.9960697197539303 and parameters: {'model_type': 'AdaBoost', 'ab_n_estimators': 80, 'ab_learning_rate': 1.7300402029852797, 'ab_algorithm': 'SAMME'}. Best is trial 1 with value: 1.0.\n",
      "[I 2023-06-08 14:32:57,900] Trial 50 finished with value: 1.0 and parameters: {'model_type': 'SupportVectorMachine', 'svm_gamma_cat': 'auto', 'svm_kernel': 'poly', 'svm_coef0': 39.57763459235514, 'svm_degree': 5, 'svm_shrinking': True, 'svm_probability': True, 'svm_tol': 0.7659043903172061, 'svm_C': 4.109767830239374}. Best is trial 1 with value: 1.0.\n"
     ]
    },
    {
     "name": "stdout",
     "output_type": "stream",
     "text": [
      "AdaBoost\n",
      "SupportVectorMachine\n",
      "AdaBoost\n",
      "SupportVectorMachine\n",
      "AdaBoost\n"
     ]
    },
    {
     "name": "stderr",
     "output_type": "stream",
     "text": [
      "[I 2023-06-08 14:32:57,938] Trial 51 finished with value: 0.9960697197539303 and parameters: {'model_type': 'AdaBoost', 'ab_n_estimators': 82, 'ab_learning_rate': 2.6987176534556285, 'ab_algorithm': 'SAMME'}. Best is trial 1 with value: 1.0.\n",
      "[I 2023-06-08 14:32:57,998] Trial 52 finished with value: 1.0 and parameters: {'model_type': 'NearestNeighbours', 'knn_algorithm': 'brute', 'knn_leaf_size': 155, 'knn_n_neighbors': 187, 'knn_weights': 'distance', 'knn_p': 1}. Best is trial 1 with value: 1.0.\n",
      "[I 2023-06-08 14:32:58,044] Trial 53 finished with value: 0.9960697197539303 and parameters: {'model_type': 'AdaBoost', 'ab_n_estimators': 100, 'ab_learning_rate': 1.8138800693678394, 'ab_algorithm': 'SAMME.R'}. Best is trial 1 with value: 1.0.\n",
      "[I 2023-06-08 14:32:58,094] Trial 54 finished with value: 1.0 and parameters: {'model_type': 'NearestNeighbours', 'knn_algorithm': 'ball_tree', 'knn_leaf_size': 138, 'knn_n_neighbors': 343, 'knn_weights': 'distance', 'knn_p': 2}. Best is trial 1 with value: 1.0.\n",
      "[I 2023-06-08 14:32:58,130] Trial 55 finished with value: 0.9960697197539303 and parameters: {'model_type': 'AdaBoost', 'ab_n_estimators': 21, 'ab_learning_rate': 0.05228562866494805, 'ab_algorithm': 'SAMME.R'}. Best is trial 1 with value: 1.0.\n"
     ]
    },
    {
     "name": "stdout",
     "output_type": "stream",
     "text": [
      "NearestNeighbours\n",
      "AdaBoost\n",
      "NearestNeighbours\n",
      "AdaBoost\n",
      "NearestNeighbours\n"
     ]
    },
    {
     "name": "stderr",
     "output_type": "stream",
     "text": [
      "[I 2023-06-08 14:32:58,172] Trial 56 finished with value: 1.0 and parameters: {'model_type': 'NearestNeighbours', 'knn_algorithm': 'kd_tree', 'knn_leaf_size': 115, 'knn_n_neighbors': 145, 'knn_weights': 'distance', 'knn_p': 1}. Best is trial 1 with value: 1.0.\n",
      "[I 2023-06-08 14:32:58,216] Trial 57 finished with value: 0.9960697197539303 and parameters: {'model_type': 'DecisionTree', 'dt_limit_max_depth': False, 'dt_limit_max_leaf_nodes': True, 'dt_max_leaf_nodes': 18, 'dt_splitter': 'best', 'dt_criterion': 'log_loss', 'dt_min_samples_split': 18, 'dt_min_saples_leaf': 22, 'dt_max_features': None, 'dt_min_impurity_decrease': 0.4739056099127931, 'dt_ccp_alpha': 0.28337504481303266}. Best is trial 1 with value: 1.0.\n",
      "[I 2023-06-08 14:32:58,262] Trial 58 finished with value: 0.9960697197539303 and parameters: {'model_type': 'AdaBoost', 'ab_n_estimators': 35, 'ab_learning_rate': 2.6025455284480734, 'ab_algorithm': 'SAMME.R'}. Best is trial 1 with value: 1.0.\n",
      "[I 2023-06-08 14:32:58,317] Trial 59 finished with value: 1.0 and parameters: {'model_type': 'SupportVectorMachine', 'svm_gamma_cat': 'scale', 'svm_kernel': 'rbf', 'svm_shrinking': False, 'svm_probability': True, 'svm_tol': 0.28967685905362295, 'svm_C': 0.25008105340602155}. Best is trial 1 with value: 1.0.\n",
      "[I 2023-06-08 14:32:58,350] Trial 60 finished with value: 0.9960697197539303 and parameters: {'model_type': 'AdaBoost', 'ab_n_estimators': 71, 'ab_learning_rate': 0.04709746019107815, 'ab_algorithm': 'SAMME.R'}. Best is trial 1 with value: 1.0.\n"
     ]
    },
    {
     "name": "stdout",
     "output_type": "stream",
     "text": [
      "DecisionTree\n",
      "AdaBoost\n",
      "SupportVectorMachine\n",
      "AdaBoost\n",
      "NearestNeighbours\n"
     ]
    },
    {
     "name": "stderr",
     "output_type": "stream",
     "text": [
      "[I 2023-06-08 14:32:58,392] Trial 61 finished with value: 1.0 and parameters: {'model_type': 'NearestNeighbours', 'knn_algorithm': 'kd_tree', 'knn_leaf_size': 156, 'knn_n_neighbors': 61, 'knn_weights': 'uniform', 'knn_p': 1}. Best is trial 1 with value: 1.0.\n",
      "[I 2023-06-08 14:32:58,450] Trial 62 finished with value: 1.0 and parameters: {'model_type': 'BayessianClassifier', 'bc_guess_priors': True, 'bc_priors': 0.6571859081466234, 'bc_var_smoothing': 0.007660219210941937}. Best is trial 1 with value: 1.0.\n",
      "[I 2023-06-08 14:32:58,497] Trial 63 finished with value: 0.9960697197539303 and parameters: {'model_type': 'AdaBoost', 'ab_n_estimators': 50, 'ab_learning_rate': 2.551553853919932, 'ab_algorithm': 'SAMME.R'}. Best is trial 1 with value: 1.0.\n",
      "[I 2023-06-08 14:32:58,549] Trial 64 finished with value: 1.0 and parameters: {'model_type': 'NearestNeighbours', 'knn_algorithm': 'brute', 'knn_leaf_size': 83, 'knn_n_neighbors': 117, 'knn_weights': 'uniform', 'knn_p': 1}. Best is trial 1 with value: 1.0.\n",
      "[I 2023-06-08 14:32:58,589] Trial 65 finished with value: 1.0 and parameters: {'model_type': 'SupportVectorMachine', 'svm_gamma_cat': 'auto', 'svm_kernel': 'linear', 'svm_shrinking': True, 'svm_probability': True, 'svm_tol': 0.3743187945743404, 'svm_C': 4.054825677655287}. Best is trial 1 with value: 1.0.\n"
     ]
    },
    {
     "name": "stdout",
     "output_type": "stream",
     "text": [
      "BayessianClassifier\n",
      "AdaBoost\n",
      "NearestNeighbours\n",
      "SupportVectorMachine\n",
      "NearestNeighbours\n"
     ]
    },
    {
     "name": "stderr",
     "output_type": "stream",
     "text": [
      "[I 2023-06-08 14:32:58,640] Trial 66 finished with value: 1.0 and parameters: {'model_type': 'NearestNeighbours', 'knn_algorithm': 'brute', 'knn_leaf_size': 161, 'knn_n_neighbors': 300, 'knn_weights': 'distance', 'knn_p': 2}. Best is trial 1 with value: 1.0.\n",
      "[I 2023-06-08 14:32:58,684] Trial 67 finished with value: 0.5 and parameters: {'model_type': 'DecisionTree', 'dt_limit_max_depth': False, 'dt_limit_max_leaf_nodes': False, 'dt_splitter': 'random', 'dt_criterion': 'log_loss', 'dt_min_samples_split': 44, 'dt_min_saples_leaf': 5, 'dt_max_features': 'log2', 'dt_min_impurity_decrease': 0.14578106637058347, 'dt_ccp_alpha': 0.3870496945573635}. Best is trial 1 with value: 1.0.\n",
      "[I 2023-06-08 14:32:58,722] Trial 68 finished with value: 0.9960697197539303 and parameters: {'model_type': 'DecisionTree', 'dt_limit_max_depth': True, 'dt_max_depth': 94, 'dt_limit_max_leaf_nodes': True, 'dt_max_leaf_nodes': 52, 'dt_splitter': 'best', 'dt_criterion': 'log_loss', 'dt_min_samples_split': 25, 'dt_min_saples_leaf': 22, 'dt_max_features': None, 'dt_min_impurity_decrease': 0.2569633202189515, 'dt_ccp_alpha': 0.13237673557322438}. Best is trial 1 with value: 1.0.\n",
      "[I 2023-06-08 14:32:58,765] Trial 69 finished with value: 1.0 and parameters: {'model_type': 'NearestNeighbours', 'knn_algorithm': 'auto', 'knn_leaf_size': 125, 'knn_n_neighbors': 79, 'knn_weights': 'distance', 'knn_p': 3}. Best is trial 1 with value: 1.0.\n",
      "[I 2023-06-08 14:32:58,794] Trial 70 finished with value: 1.0 and parameters: {'model_type': 'SupportVectorMachine', 'svm_gamma_cat': 'float', 'svm_gamma_num': 0.19162129535745007, 'svm_kernel': 'linear', 'svm_shrinking': True, 'svm_probability': True, 'svm_tol': 0.7989113955207178, 'svm_C': 2.493593367037995}. Best is trial 1 with value: 1.0.\n",
      "[I 2023-06-08 14:32:58,826] Trial 71 finished with value: 1.0 and parameters: {'model_type': 'BayessianClassifier', 'bc_guess_priors': False, 'bc_var_smoothing': 0.0005943541617964303}. Best is trial 1 with value: 1.0.\n"
     ]
    },
    {
     "name": "stdout",
     "output_type": "stream",
     "text": [
      "DecisionTree\n",
      "DecisionTree\n",
      "NearestNeighbours\n",
      "SupportVectorMachine\n",
      "BayessianClassifier\n",
      "SupportVectorMachine\n"
     ]
    },
    {
     "name": "stderr",
     "output_type": "stream",
     "text": [
      "[I 2023-06-08 14:32:58,910] Trial 72 finished with value: 0.5 and parameters: {'model_type': 'SupportVectorMachine', 'svm_gamma_cat': 'scale', 'svm_kernel': 'sigmoid', 'svm_coef0': 26.77497182729309, 'svm_shrinking': False, 'svm_probability': True, 'svm_tol': 0.8242699332643578, 'svm_C': 3.6089806616966333}. Best is trial 1 with value: 1.0.\n",
      "[I 2023-06-08 14:32:58,939] Trial 73 finished with value: 0.9960697197539303 and parameters: {'model_type': 'DecisionTree', 'dt_limit_max_depth': False, 'dt_limit_max_leaf_nodes': False, 'dt_splitter': 'best', 'dt_criterion': 'entropy', 'dt_min_samples_split': 21, 'dt_min_saples_leaf': 32, 'dt_max_features': 'log2', 'dt_min_impurity_decrease': 0.03447493139464969, 'dt_ccp_alpha': 0.23769925479692877}. Best is trial 1 with value: 1.0.\n",
      "[I 2023-06-08 14:32:58,968] Trial 74 finished with value: 0.9960697197539303 and parameters: {'model_type': 'DecisionTree', 'dt_limit_max_depth': True, 'dt_max_depth': 62, 'dt_limit_max_leaf_nodes': True, 'dt_max_leaf_nodes': 35, 'dt_splitter': 'best', 'dt_criterion': 'entropy', 'dt_min_samples_split': 3, 'dt_min_saples_leaf': 41, 'dt_max_features': 'log2', 'dt_min_impurity_decrease': 0.23135700169918805, 'dt_ccp_alpha': 0.2596443618153752}. Best is trial 1 with value: 1.0.\n",
      "[I 2023-06-08 14:32:58,998] Trial 75 finished with value: 1.0 and parameters: {'model_type': 'NearestNeighbours', 'knn_algorithm': 'auto', 'knn_leaf_size': 88, 'knn_n_neighbors': 27, 'knn_weights': 'uniform', 'knn_p': 3}. Best is trial 1 with value: 1.0.\n",
      "[I 2023-06-08 14:32:59,047] Trial 76 finished with value: 1.0 and parameters: {'model_type': 'NearestNeighbours', 'knn_algorithm': 'kd_tree', 'knn_leaf_size': 128, 'knn_n_neighbors': 338, 'knn_weights': 'distance', 'knn_p': 3}. Best is trial 1 with value: 1.0.\n",
      "[I 2023-06-08 14:32:59,079] Trial 77 finished with value: 0.9960697197539303 and parameters: {'model_type': 'AdaBoost', 'ab_n_estimators': 42, 'ab_learning_rate': 1.8198273217456853, 'ab_algorithm': 'SAMME'}. Best is trial 1 with value: 1.0.\n"
     ]
    },
    {
     "name": "stdout",
     "output_type": "stream",
     "text": [
      "DecisionTree\n",
      "DecisionTree\n",
      "NearestNeighbours\n",
      "NearestNeighbours\n",
      "AdaBoost\n",
      "SupportVectorMachine\n"
     ]
    },
    {
     "name": "stderr",
     "output_type": "stream",
     "text": [
      "[I 2023-06-08 14:32:59,122] Trial 78 finished with value: 1.0 and parameters: {'model_type': 'SupportVectorMachine', 'svm_gamma_cat': 'float', 'svm_gamma_num': 3.0462603483129462, 'svm_kernel': 'poly', 'svm_coef0': 3.5250725477181653, 'svm_degree': 5, 'svm_shrinking': True, 'svm_probability': False, 'svm_tol': 0.42068097610248667, 'svm_C': 3.1649062026007444}. Best is trial 1 with value: 1.0.\n",
      "[I 2023-06-08 14:32:59,171] Trial 79 finished with value: 1.0 and parameters: {'model_type': 'NearestNeighbours', 'knn_algorithm': 'kd_tree', 'knn_leaf_size': 115, 'knn_n_neighbors': 174, 'knn_weights': 'distance', 'knn_p': 3}. Best is trial 1 with value: 1.0.\n",
      "[I 2023-06-08 14:32:59,230] Trial 80 finished with value: 0.5 and parameters: {'model_type': 'SupportVectorMachine', 'svm_gamma_cat': 'float', 'svm_gamma_num': 3.5867632853388636, 'svm_kernel': 'sigmoid', 'svm_coef0': 21.47896352597911, 'svm_shrinking': False, 'svm_probability': True, 'svm_tol': 0.9974701280863044, 'svm_C': 4.622794530471976}. Best is trial 1 with value: 1.0.\n",
      "[I 2023-06-08 14:32:59,262] Trial 81 finished with value: 0.9960697197539303 and parameters: {'model_type': 'DecisionTree', 'dt_limit_max_depth': True, 'dt_max_depth': 60, 'dt_limit_max_leaf_nodes': True, 'dt_max_leaf_nodes': 191, 'dt_splitter': 'best', 'dt_criterion': 'entropy', 'dt_min_samples_split': 12, 'dt_min_saples_leaf': 30, 'dt_max_features': 'sqrt', 'dt_min_impurity_decrease': 0.2770431406709739, 'dt_ccp_alpha': 0.1822167696246021}. Best is trial 1 with value: 1.0.\n",
      "[I 2023-06-08 14:32:59,300] Trial 82 finished with value: 1.0 and parameters: {'model_type': 'SupportVectorMachine', 'svm_gamma_cat': 'scale', 'svm_kernel': 'rbf', 'svm_shrinking': True, 'svm_probability': True, 'svm_tol': 0.27837929721694965, 'svm_C': 1.2766801529785918}. Best is trial 1 with value: 1.0.\n"
     ]
    },
    {
     "name": "stdout",
     "output_type": "stream",
     "text": [
      "NearestNeighbours\n",
      "SupportVectorMachine\n",
      "DecisionTree\n",
      "SupportVectorMachine\n",
      "AdaBoost\n"
     ]
    },
    {
     "name": "stderr",
     "output_type": "stream",
     "text": [
      "[I 2023-06-08 14:32:59,327] Trial 83 finished with value: 0.9960697197539303 and parameters: {'model_type': 'AdaBoost', 'ab_n_estimators': 84, 'ab_learning_rate': 1.5995347170002086, 'ab_algorithm': 'SAMME'}. Best is trial 1 with value: 1.0.\n",
      "[I 2023-06-08 14:32:59,405] Trial 84 finished with value: 0.9997265892002734 and parameters: {'model_type': 'SupportVectorMachine', 'svm_gamma_cat': 'auto', 'svm_kernel': 'rbf', 'svm_shrinking': False, 'svm_probability': True, 'svm_tol': 0.8601928079234187, 'svm_C': 3.0272719052863097}. Best is trial 1 with value: 1.0.\n",
      "[I 2023-06-08 14:32:59,434] Trial 85 finished with value: 1.0 and parameters: {'model_type': 'BayessianClassifier', 'bc_guess_priors': True, 'bc_priors': 0.13045060569269684, 'bc_var_smoothing': 0.002831999198727858}. Best is trial 1 with value: 1.0.\n",
      "[I 2023-06-08 14:32:59,464] Trial 86 finished with value: 1.0 and parameters: {'model_type': 'BayessianClassifier', 'bc_guess_priors': True, 'bc_priors': 0.9428033298134856, 'bc_var_smoothing': 0.007964378095545437}. Best is trial 1 with value: 1.0.\n",
      "[I 2023-06-08 14:32:59,517] Trial 87 finished with value: 1.0 and parameters: {'model_type': 'NearestNeighbours', 'knn_algorithm': 'ball_tree', 'knn_leaf_size': 130, 'knn_n_neighbors': 340, 'knn_weights': 'distance', 'knn_p': 3}. Best is trial 1 with value: 1.0.\n"
     ]
    },
    {
     "name": "stdout",
     "output_type": "stream",
     "text": [
      "SupportVectorMachine\n",
      "BayessianClassifier\n",
      "BayessianClassifier\n",
      "NearestNeighbours\n",
      "NearestNeighbours\n"
     ]
    },
    {
     "name": "stderr",
     "output_type": "stream",
     "text": [
      "[I 2023-06-08 14:32:59,558] Trial 88 finished with value: 1.0 and parameters: {'model_type': 'NearestNeighbours', 'knn_algorithm': 'auto', 'knn_leaf_size': 101, 'knn_n_neighbors': 180, 'knn_weights': 'distance', 'knn_p': 3}. Best is trial 1 with value: 1.0.\n",
      "[I 2023-06-08 14:32:59,641] Trial 89 finished with value: 0.9960697197539303 and parameters: {'model_type': 'DecisionTree', 'dt_limit_max_depth': False, 'dt_limit_max_leaf_nodes': True, 'dt_max_leaf_nodes': 286, 'dt_splitter': 'best', 'dt_criterion': 'log_loss', 'dt_min_samples_split': 50, 'dt_min_saples_leaf': 29, 'dt_max_features': None, 'dt_min_impurity_decrease': 0.47681097389582583, 'dt_ccp_alpha': 0.695090184475064}. Best is trial 1 with value: 1.0.\n",
      "[I 2023-06-08 14:32:59,674] Trial 90 finished with value: 0.9960697197539303 and parameters: {'model_type': 'AdaBoost', 'ab_n_estimators': 87, 'ab_learning_rate': 1.2284616165500015, 'ab_algorithm': 'SAMME.R'}. Best is trial 1 with value: 1.0.\n",
      "[I 2023-06-08 14:32:59,711] Trial 91 finished with value: 1.0 and parameters: {'model_type': 'NearestNeighbours', 'knn_algorithm': 'kd_tree', 'knn_leaf_size': 43, 'knn_n_neighbors': 143, 'knn_weights': 'uniform', 'knn_p': 2}. Best is trial 1 with value: 1.0.\n",
      "[I 2023-06-08 14:32:59,744] Trial 92 finished with value: 0.9960697197539303 and parameters: {'model_type': 'AdaBoost', 'ab_n_estimators': 80, 'ab_learning_rate': 2.2759704383384207, 'ab_algorithm': 'SAMME.R'}. Best is trial 1 with value: 1.0.\n",
      "[I 2023-06-08 14:32:59,781] Trial 93 finished with value: 1.0 and parameters: {'model_type': 'NearestNeighbours', 'knn_algorithm': 'auto', 'knn_leaf_size': 79, 'knn_n_neighbors': 48, 'knn_weights': 'distance', 'knn_p': 3}. Best is trial 1 with value: 1.0.\n"
     ]
    },
    {
     "name": "stdout",
     "output_type": "stream",
     "text": [
      "DecisionTree\n",
      "AdaBoost\n",
      "NearestNeighbours\n",
      "AdaBoost\n",
      "NearestNeighbours\n",
      "NearestNeighbours\n"
     ]
    },
    {
     "name": "stderr",
     "output_type": "stream",
     "text": [
      "[I 2023-06-08 14:32:59,820] Trial 94 finished with value: 1.0 and parameters: {'model_type': 'NearestNeighbours', 'knn_algorithm': 'ball_tree', 'knn_leaf_size': 126, 'knn_n_neighbors': 392, 'knn_weights': 'distance', 'knn_p': 1}. Best is trial 1 with value: 1.0.\n",
      "[I 2023-06-08 14:32:59,878] Trial 95 finished with value: 0.9569719753930281 and parameters: {'model_type': 'NearestNeighbours', 'knn_algorithm': 'ball_tree', 'knn_leaf_size': 101, 'knn_n_neighbors': 356, 'knn_weights': 'uniform', 'knn_p': 3}. Best is trial 1 with value: 1.0.\n",
      "[I 2023-06-08 14:32:59,910] Trial 96 finished with value: 0.9960697197539303 and parameters: {'model_type': 'AdaBoost', 'ab_n_estimators': 88, 'ab_learning_rate': 2.0437123319284587, 'ab_algorithm': 'SAMME'}. Best is trial 1 with value: 1.0.\n",
      "[I 2023-06-08 14:32:59,943] Trial 97 finished with value: 0.9960697197539303 and parameters: {'model_type': 'AdaBoost', 'ab_n_estimators': 56, 'ab_learning_rate': 2.921766714815733, 'ab_algorithm': 'SAMME.R'}. Best is trial 1 with value: 1.0.\n",
      "[I 2023-06-08 14:32:59,976] Trial 98 finished with value: 0.9960697197539303 and parameters: {'model_type': 'AdaBoost', 'ab_n_estimators': 92, 'ab_learning_rate': 2.403578151355237, 'ab_algorithm': 'SAMME.R'}. Best is trial 1 with value: 1.0.\n",
      "[I 2023-06-08 14:33:00,012] Trial 99 finished with value: 1.0 and parameters: {'model_type': 'SupportVectorMachine', 'svm_gamma_cat': 'scale', 'svm_kernel': 'poly', 'svm_coef0': 32.29429892507197, 'svm_degree': 5, 'svm_shrinking': False, 'svm_probability': True, 'svm_tol': 0.19236127238882444, 'svm_C': 3.103872687917006}. Best is trial 1 with value: 1.0.\n"
     ]
    },
    {
     "name": "stdout",
     "output_type": "stream",
     "text": [
      "NearestNeighbours\n",
      "AdaBoost\n",
      "AdaBoost\n",
      "AdaBoost\n",
      "SupportVectorMachine\n"
     ]
    }
   ],
   "source": [
    "random_sampler_study = optuna.create_study(direction='maximize', sampler=optuna.samplers.RandomSampler(seed=1337))\n",
    "random_sampler_study.optimize(objective, n_trials=100)"
   ]
  },
  {
   "cell_type": "code",
   "execution_count": 12,
   "metadata": {},
   "outputs": [
    {
     "name": "stdout",
     "output_type": "stream",
     "text": [
      "{'model_type': 'NearestNeighbours', 'knn_algorithm': 'auto', 'knn_leaf_size': 86, 'knn_n_neighbors': 202, 'knn_weights': 'uniform', 'knn_p': 3}\n"
     ]
    }
   ],
   "source": [
    "print(random_sampler_study.best_params)"
   ]
  },
  {
   "cell_type": "code",
   "execution_count": 13,
   "metadata": {},
   "outputs": [
    {
     "data": {
      "application/vnd.plotly.v1+json": {
       "config": {
        "plotlyServerURL": "https://plot.ly"
       },
       "data": [
        {
         "mode": "markers",
         "name": "Objective Value",
         "type": "scatter",
         "x": [
          0,
          1,
          2,
          3,
          4,
          5,
          6,
          7,
          8,
          9,
          10,
          11,
          12,
          13,
          14,
          15,
          16,
          17,
          18,
          19,
          20,
          21,
          22,
          23,
          24,
          25,
          26,
          27,
          28,
          29,
          30,
          31,
          32,
          33,
          34,
          35,
          36,
          37,
          38,
          39,
          40,
          41,
          42,
          43,
          44,
          45,
          46,
          47,
          48,
          49,
          50,
          51,
          52,
          53,
          54,
          55,
          56,
          57,
          58,
          59,
          60,
          61,
          62,
          63,
          64,
          65,
          66,
          67,
          68,
          69,
          70,
          71,
          72,
          73,
          74,
          75,
          76,
          77,
          78,
          79,
          80,
          81,
          82,
          83,
          84,
          85,
          86,
          87,
          88,
          89,
          90,
          91,
          92,
          93,
          94,
          95,
          96,
          97,
          98,
          99
         ],
         "y": [
          0.9960697197539303,
          1,
          1,
          1,
          0.9960697197539303,
          1,
          0.9960697197539303,
          0.5,
          1,
          0.5,
          1,
          0.9960697197539303,
          1,
          1,
          0.9960697197539303,
          1,
          0.5,
          0.5,
          0.8879870129870129,
          1,
          0.9997265892002734,
          0.9960697197539303,
          0.9960697197539303,
          0.9960697197539303,
          0.9960697197539303,
          0.9960697197539303,
          0.9960697197539303,
          1,
          1,
          1,
          0.9960697197539303,
          1,
          0.5,
          0.9960697197539303,
          0.9960697197539303,
          1,
          1,
          1,
          0.5,
          1,
          0.5,
          1,
          0.9960697197539303,
          1,
          0.9960697197539303,
          0.9830485304169514,
          1,
          0.9960697197539303,
          0.9997949419002051,
          0.9960697197539303,
          1,
          0.9960697197539303,
          1,
          0.9960697197539303,
          1,
          0.9960697197539303,
          1,
          0.9960697197539303,
          0.9960697197539303,
          1,
          0.9960697197539303,
          1,
          1,
          0.9960697197539303,
          1,
          1,
          1,
          0.5,
          0.9960697197539303,
          1,
          1,
          1,
          0.5,
          0.9960697197539303,
          0.9960697197539303,
          1,
          1,
          0.9960697197539303,
          1,
          1,
          0.5,
          0.9960697197539303,
          1,
          0.9960697197539303,
          0.9997265892002734,
          1,
          1,
          1,
          1,
          0.9960697197539303,
          0.9960697197539303,
          1,
          0.9960697197539303,
          1,
          1,
          0.9569719753930281,
          0.9960697197539303,
          0.9960697197539303,
          0.9960697197539303,
          1
         ]
        },
        {
         "name": "Best Value",
         "type": "scatter",
         "x": [
          0,
          1,
          2,
          3,
          4,
          5,
          6,
          7,
          8,
          9,
          10,
          11,
          12,
          13,
          14,
          15,
          16,
          17,
          18,
          19,
          20,
          21,
          22,
          23,
          24,
          25,
          26,
          27,
          28,
          29,
          30,
          31,
          32,
          33,
          34,
          35,
          36,
          37,
          38,
          39,
          40,
          41,
          42,
          43,
          44,
          45,
          46,
          47,
          48,
          49,
          50,
          51,
          52,
          53,
          54,
          55,
          56,
          57,
          58,
          59,
          60,
          61,
          62,
          63,
          64,
          65,
          66,
          67,
          68,
          69,
          70,
          71,
          72,
          73,
          74,
          75,
          76,
          77,
          78,
          79,
          80,
          81,
          82,
          83,
          84,
          85,
          86,
          87,
          88,
          89,
          90,
          91,
          92,
          93,
          94,
          95,
          96,
          97,
          98,
          99
         ],
         "y": [
          0.9960697197539303,
          1,
          1,
          1,
          1,
          1,
          1,
          1,
          1,
          1,
          1,
          1,
          1,
          1,
          1,
          1,
          1,
          1,
          1,
          1,
          1,
          1,
          1,
          1,
          1,
          1,
          1,
          1,
          1,
          1,
          1,
          1,
          1,
          1,
          1,
          1,
          1,
          1,
          1,
          1,
          1,
          1,
          1,
          1,
          1,
          1,
          1,
          1,
          1,
          1,
          1,
          1,
          1,
          1,
          1,
          1,
          1,
          1,
          1,
          1,
          1,
          1,
          1,
          1,
          1,
          1,
          1,
          1,
          1,
          1,
          1,
          1,
          1,
          1,
          1,
          1,
          1,
          1,
          1,
          1,
          1,
          1,
          1,
          1,
          1,
          1,
          1,
          1,
          1,
          1,
          1,
          1,
          1,
          1,
          1,
          1,
          1,
          1,
          1,
          1
         ]
        }
       ],
       "layout": {
        "template": {
         "data": {
          "bar": [
           {
            "error_x": {
             "color": "#2a3f5f"
            },
            "error_y": {
             "color": "#2a3f5f"
            },
            "marker": {
             "line": {
              "color": "#E5ECF6",
              "width": 0.5
             },
             "pattern": {
              "fillmode": "overlay",
              "size": 10,
              "solidity": 0.2
             }
            },
            "type": "bar"
           }
          ],
          "barpolar": [
           {
            "marker": {
             "line": {
              "color": "#E5ECF6",
              "width": 0.5
             },
             "pattern": {
              "fillmode": "overlay",
              "size": 10,
              "solidity": 0.2
             }
            },
            "type": "barpolar"
           }
          ],
          "carpet": [
           {
            "aaxis": {
             "endlinecolor": "#2a3f5f",
             "gridcolor": "white",
             "linecolor": "white",
             "minorgridcolor": "white",
             "startlinecolor": "#2a3f5f"
            },
            "baxis": {
             "endlinecolor": "#2a3f5f",
             "gridcolor": "white",
             "linecolor": "white",
             "minorgridcolor": "white",
             "startlinecolor": "#2a3f5f"
            },
            "type": "carpet"
           }
          ],
          "choropleth": [
           {
            "colorbar": {
             "outlinewidth": 0,
             "ticks": ""
            },
            "type": "choropleth"
           }
          ],
          "contour": [
           {
            "colorbar": {
             "outlinewidth": 0,
             "ticks": ""
            },
            "colorscale": [
             [
              0,
              "#0d0887"
             ],
             [
              0.1111111111111111,
              "#46039f"
             ],
             [
              0.2222222222222222,
              "#7201a8"
             ],
             [
              0.3333333333333333,
              "#9c179e"
             ],
             [
              0.4444444444444444,
              "#bd3786"
             ],
             [
              0.5555555555555556,
              "#d8576b"
             ],
             [
              0.6666666666666666,
              "#ed7953"
             ],
             [
              0.7777777777777778,
              "#fb9f3a"
             ],
             [
              0.8888888888888888,
              "#fdca26"
             ],
             [
              1,
              "#f0f921"
             ]
            ],
            "type": "contour"
           }
          ],
          "contourcarpet": [
           {
            "colorbar": {
             "outlinewidth": 0,
             "ticks": ""
            },
            "type": "contourcarpet"
           }
          ],
          "heatmap": [
           {
            "colorbar": {
             "outlinewidth": 0,
             "ticks": ""
            },
            "colorscale": [
             [
              0,
              "#0d0887"
             ],
             [
              0.1111111111111111,
              "#46039f"
             ],
             [
              0.2222222222222222,
              "#7201a8"
             ],
             [
              0.3333333333333333,
              "#9c179e"
             ],
             [
              0.4444444444444444,
              "#bd3786"
             ],
             [
              0.5555555555555556,
              "#d8576b"
             ],
             [
              0.6666666666666666,
              "#ed7953"
             ],
             [
              0.7777777777777778,
              "#fb9f3a"
             ],
             [
              0.8888888888888888,
              "#fdca26"
             ],
             [
              1,
              "#f0f921"
             ]
            ],
            "type": "heatmap"
           }
          ],
          "heatmapgl": [
           {
            "colorbar": {
             "outlinewidth": 0,
             "ticks": ""
            },
            "colorscale": [
             [
              0,
              "#0d0887"
             ],
             [
              0.1111111111111111,
              "#46039f"
             ],
             [
              0.2222222222222222,
              "#7201a8"
             ],
             [
              0.3333333333333333,
              "#9c179e"
             ],
             [
              0.4444444444444444,
              "#bd3786"
             ],
             [
              0.5555555555555556,
              "#d8576b"
             ],
             [
              0.6666666666666666,
              "#ed7953"
             ],
             [
              0.7777777777777778,
              "#fb9f3a"
             ],
             [
              0.8888888888888888,
              "#fdca26"
             ],
             [
              1,
              "#f0f921"
             ]
            ],
            "type": "heatmapgl"
           }
          ],
          "histogram": [
           {
            "marker": {
             "pattern": {
              "fillmode": "overlay",
              "size": 10,
              "solidity": 0.2
             }
            },
            "type": "histogram"
           }
          ],
          "histogram2d": [
           {
            "colorbar": {
             "outlinewidth": 0,
             "ticks": ""
            },
            "colorscale": [
             [
              0,
              "#0d0887"
             ],
             [
              0.1111111111111111,
              "#46039f"
             ],
             [
              0.2222222222222222,
              "#7201a8"
             ],
             [
              0.3333333333333333,
              "#9c179e"
             ],
             [
              0.4444444444444444,
              "#bd3786"
             ],
             [
              0.5555555555555556,
              "#d8576b"
             ],
             [
              0.6666666666666666,
              "#ed7953"
             ],
             [
              0.7777777777777778,
              "#fb9f3a"
             ],
             [
              0.8888888888888888,
              "#fdca26"
             ],
             [
              1,
              "#f0f921"
             ]
            ],
            "type": "histogram2d"
           }
          ],
          "histogram2dcontour": [
           {
            "colorbar": {
             "outlinewidth": 0,
             "ticks": ""
            },
            "colorscale": [
             [
              0,
              "#0d0887"
             ],
             [
              0.1111111111111111,
              "#46039f"
             ],
             [
              0.2222222222222222,
              "#7201a8"
             ],
             [
              0.3333333333333333,
              "#9c179e"
             ],
             [
              0.4444444444444444,
              "#bd3786"
             ],
             [
              0.5555555555555556,
              "#d8576b"
             ],
             [
              0.6666666666666666,
              "#ed7953"
             ],
             [
              0.7777777777777778,
              "#fb9f3a"
             ],
             [
              0.8888888888888888,
              "#fdca26"
             ],
             [
              1,
              "#f0f921"
             ]
            ],
            "type": "histogram2dcontour"
           }
          ],
          "mesh3d": [
           {
            "colorbar": {
             "outlinewidth": 0,
             "ticks": ""
            },
            "type": "mesh3d"
           }
          ],
          "parcoords": [
           {
            "line": {
             "colorbar": {
              "outlinewidth": 0,
              "ticks": ""
             }
            },
            "type": "parcoords"
           }
          ],
          "pie": [
           {
            "automargin": true,
            "type": "pie"
           }
          ],
          "scatter": [
           {
            "fillpattern": {
             "fillmode": "overlay",
             "size": 10,
             "solidity": 0.2
            },
            "type": "scatter"
           }
          ],
          "scatter3d": [
           {
            "line": {
             "colorbar": {
              "outlinewidth": 0,
              "ticks": ""
             }
            },
            "marker": {
             "colorbar": {
              "outlinewidth": 0,
              "ticks": ""
             }
            },
            "type": "scatter3d"
           }
          ],
          "scattercarpet": [
           {
            "marker": {
             "colorbar": {
              "outlinewidth": 0,
              "ticks": ""
             }
            },
            "type": "scattercarpet"
           }
          ],
          "scattergeo": [
           {
            "marker": {
             "colorbar": {
              "outlinewidth": 0,
              "ticks": ""
             }
            },
            "type": "scattergeo"
           }
          ],
          "scattergl": [
           {
            "marker": {
             "colorbar": {
              "outlinewidth": 0,
              "ticks": ""
             }
            },
            "type": "scattergl"
           }
          ],
          "scattermapbox": [
           {
            "marker": {
             "colorbar": {
              "outlinewidth": 0,
              "ticks": ""
             }
            },
            "type": "scattermapbox"
           }
          ],
          "scatterpolar": [
           {
            "marker": {
             "colorbar": {
              "outlinewidth": 0,
              "ticks": ""
             }
            },
            "type": "scatterpolar"
           }
          ],
          "scatterpolargl": [
           {
            "marker": {
             "colorbar": {
              "outlinewidth": 0,
              "ticks": ""
             }
            },
            "type": "scatterpolargl"
           }
          ],
          "scatterternary": [
           {
            "marker": {
             "colorbar": {
              "outlinewidth": 0,
              "ticks": ""
             }
            },
            "type": "scatterternary"
           }
          ],
          "surface": [
           {
            "colorbar": {
             "outlinewidth": 0,
             "ticks": ""
            },
            "colorscale": [
             [
              0,
              "#0d0887"
             ],
             [
              0.1111111111111111,
              "#46039f"
             ],
             [
              0.2222222222222222,
              "#7201a8"
             ],
             [
              0.3333333333333333,
              "#9c179e"
             ],
             [
              0.4444444444444444,
              "#bd3786"
             ],
             [
              0.5555555555555556,
              "#d8576b"
             ],
             [
              0.6666666666666666,
              "#ed7953"
             ],
             [
              0.7777777777777778,
              "#fb9f3a"
             ],
             [
              0.8888888888888888,
              "#fdca26"
             ],
             [
              1,
              "#f0f921"
             ]
            ],
            "type": "surface"
           }
          ],
          "table": [
           {
            "cells": {
             "fill": {
              "color": "#EBF0F8"
             },
             "line": {
              "color": "white"
             }
            },
            "header": {
             "fill": {
              "color": "#C8D4E3"
             },
             "line": {
              "color": "white"
             }
            },
            "type": "table"
           }
          ]
         },
         "layout": {
          "annotationdefaults": {
           "arrowcolor": "#2a3f5f",
           "arrowhead": 0,
           "arrowwidth": 1
          },
          "autotypenumbers": "strict",
          "coloraxis": {
           "colorbar": {
            "outlinewidth": 0,
            "ticks": ""
           }
          },
          "colorscale": {
           "diverging": [
            [
             0,
             "#8e0152"
            ],
            [
             0.1,
             "#c51b7d"
            ],
            [
             0.2,
             "#de77ae"
            ],
            [
             0.3,
             "#f1b6da"
            ],
            [
             0.4,
             "#fde0ef"
            ],
            [
             0.5,
             "#f7f7f7"
            ],
            [
             0.6,
             "#e6f5d0"
            ],
            [
             0.7,
             "#b8e186"
            ],
            [
             0.8,
             "#7fbc41"
            ],
            [
             0.9,
             "#4d9221"
            ],
            [
             1,
             "#276419"
            ]
           ],
           "sequential": [
            [
             0,
             "#0d0887"
            ],
            [
             0.1111111111111111,
             "#46039f"
            ],
            [
             0.2222222222222222,
             "#7201a8"
            ],
            [
             0.3333333333333333,
             "#9c179e"
            ],
            [
             0.4444444444444444,
             "#bd3786"
            ],
            [
             0.5555555555555556,
             "#d8576b"
            ],
            [
             0.6666666666666666,
             "#ed7953"
            ],
            [
             0.7777777777777778,
             "#fb9f3a"
            ],
            [
             0.8888888888888888,
             "#fdca26"
            ],
            [
             1,
             "#f0f921"
            ]
           ],
           "sequentialminus": [
            [
             0,
             "#0d0887"
            ],
            [
             0.1111111111111111,
             "#46039f"
            ],
            [
             0.2222222222222222,
             "#7201a8"
            ],
            [
             0.3333333333333333,
             "#9c179e"
            ],
            [
             0.4444444444444444,
             "#bd3786"
            ],
            [
             0.5555555555555556,
             "#d8576b"
            ],
            [
             0.6666666666666666,
             "#ed7953"
            ],
            [
             0.7777777777777778,
             "#fb9f3a"
            ],
            [
             0.8888888888888888,
             "#fdca26"
            ],
            [
             1,
             "#f0f921"
            ]
           ]
          },
          "colorway": [
           "#636efa",
           "#EF553B",
           "#00cc96",
           "#ab63fa",
           "#FFA15A",
           "#19d3f3",
           "#FF6692",
           "#B6E880",
           "#FF97FF",
           "#FECB52"
          ],
          "font": {
           "color": "#2a3f5f"
          },
          "geo": {
           "bgcolor": "white",
           "lakecolor": "white",
           "landcolor": "#E5ECF6",
           "showlakes": true,
           "showland": true,
           "subunitcolor": "white"
          },
          "hoverlabel": {
           "align": "left"
          },
          "hovermode": "closest",
          "mapbox": {
           "style": "light"
          },
          "paper_bgcolor": "white",
          "plot_bgcolor": "#E5ECF6",
          "polar": {
           "angularaxis": {
            "gridcolor": "white",
            "linecolor": "white",
            "ticks": ""
           },
           "bgcolor": "#E5ECF6",
           "radialaxis": {
            "gridcolor": "white",
            "linecolor": "white",
            "ticks": ""
           }
          },
          "scene": {
           "xaxis": {
            "backgroundcolor": "#E5ECF6",
            "gridcolor": "white",
            "gridwidth": 2,
            "linecolor": "white",
            "showbackground": true,
            "ticks": "",
            "zerolinecolor": "white"
           },
           "yaxis": {
            "backgroundcolor": "#E5ECF6",
            "gridcolor": "white",
            "gridwidth": 2,
            "linecolor": "white",
            "showbackground": true,
            "ticks": "",
            "zerolinecolor": "white"
           },
           "zaxis": {
            "backgroundcolor": "#E5ECF6",
            "gridcolor": "white",
            "gridwidth": 2,
            "linecolor": "white",
            "showbackground": true,
            "ticks": "",
            "zerolinecolor": "white"
           }
          },
          "shapedefaults": {
           "line": {
            "color": "#2a3f5f"
           }
          },
          "ternary": {
           "aaxis": {
            "gridcolor": "white",
            "linecolor": "white",
            "ticks": ""
           },
           "baxis": {
            "gridcolor": "white",
            "linecolor": "white",
            "ticks": ""
           },
           "bgcolor": "#E5ECF6",
           "caxis": {
            "gridcolor": "white",
            "linecolor": "white",
            "ticks": ""
           }
          },
          "title": {
           "x": 0.05
          },
          "xaxis": {
           "automargin": true,
           "gridcolor": "white",
           "linecolor": "white",
           "ticks": "",
           "title": {
            "standoff": 15
           },
           "zerolinecolor": "white",
           "zerolinewidth": 2
          },
          "yaxis": {
           "automargin": true,
           "gridcolor": "white",
           "linecolor": "white",
           "ticks": "",
           "title": {
            "standoff": 15
           },
           "zerolinecolor": "white",
           "zerolinewidth": 2
          }
         }
        },
        "title": {
         "text": "Optimization History Plot"
        },
        "xaxis": {
         "title": {
          "text": "Trial"
         }
        },
        "yaxis": {
         "title": {
          "text": "Objective Value"
         }
        }
       }
      }
     },
     "metadata": {},
     "output_type": "display_data"
    }
   ],
   "source": [
    "optuna.visualization.plot_optimization_history(random_sampler_study)"
   ]
  },
  {
   "cell_type": "code",
   "execution_count": 14,
   "metadata": {},
   "outputs": [
    {
     "data": {
      "application/vnd.plotly.v1+json": {
       "config": {
        "plotlyServerURL": "https://plot.ly"
       },
       "data": [
        {
         "cliponaxis": false,
         "hovertemplate": [
          "model_type (CategoricalDistribution): 0.0<extra></extra>",
          "svm_probability (CategoricalDistribution): 4.677827583170258e-10<extra></extra>",
          "svm_shrinking (CategoricalDistribution): 9.539080942036606e-10<extra></extra>",
          "svm_gamma_cat (CategoricalDistribution): 0.00016266659810895557<extra></extra>",
          "svm_C (FloatDistribution): 0.032392108105309375<extra></extra>",
          "svm_tol (FloatDistribution): 0.18496443506534702<extra></extra>",
          "svm_kernel (CategoricalDistribution): 0.7824807888095439<extra></extra>"
         ],
         "marker": {
          "color": "rgb(66,146,198)"
         },
         "orientation": "h",
         "text": [
          "<0.01",
          "<0.01",
          "<0.01",
          "<0.01",
          "0.03",
          "0.18",
          "0.78"
         ],
         "textposition": "outside",
         "type": "bar",
         "x": [
          0,
          4.677827583170258e-10,
          9.539080942036606e-10,
          0.00016266659810895557,
          0.032392108105309375,
          0.18496443506534702,
          0.7824807888095439
         ],
         "y": [
          "model_type",
          "svm_probability",
          "svm_shrinking",
          "svm_gamma_cat",
          "svm_C",
          "svm_tol",
          "svm_kernel"
         ]
        }
       ],
       "layout": {
        "showlegend": false,
        "template": {
         "data": {
          "bar": [
           {
            "error_x": {
             "color": "#2a3f5f"
            },
            "error_y": {
             "color": "#2a3f5f"
            },
            "marker": {
             "line": {
              "color": "#E5ECF6",
              "width": 0.5
             },
             "pattern": {
              "fillmode": "overlay",
              "size": 10,
              "solidity": 0.2
             }
            },
            "type": "bar"
           }
          ],
          "barpolar": [
           {
            "marker": {
             "line": {
              "color": "#E5ECF6",
              "width": 0.5
             },
             "pattern": {
              "fillmode": "overlay",
              "size": 10,
              "solidity": 0.2
             }
            },
            "type": "barpolar"
           }
          ],
          "carpet": [
           {
            "aaxis": {
             "endlinecolor": "#2a3f5f",
             "gridcolor": "white",
             "linecolor": "white",
             "minorgridcolor": "white",
             "startlinecolor": "#2a3f5f"
            },
            "baxis": {
             "endlinecolor": "#2a3f5f",
             "gridcolor": "white",
             "linecolor": "white",
             "minorgridcolor": "white",
             "startlinecolor": "#2a3f5f"
            },
            "type": "carpet"
           }
          ],
          "choropleth": [
           {
            "colorbar": {
             "outlinewidth": 0,
             "ticks": ""
            },
            "type": "choropleth"
           }
          ],
          "contour": [
           {
            "colorbar": {
             "outlinewidth": 0,
             "ticks": ""
            },
            "colorscale": [
             [
              0,
              "#0d0887"
             ],
             [
              0.1111111111111111,
              "#46039f"
             ],
             [
              0.2222222222222222,
              "#7201a8"
             ],
             [
              0.3333333333333333,
              "#9c179e"
             ],
             [
              0.4444444444444444,
              "#bd3786"
             ],
             [
              0.5555555555555556,
              "#d8576b"
             ],
             [
              0.6666666666666666,
              "#ed7953"
             ],
             [
              0.7777777777777778,
              "#fb9f3a"
             ],
             [
              0.8888888888888888,
              "#fdca26"
             ],
             [
              1,
              "#f0f921"
             ]
            ],
            "type": "contour"
           }
          ],
          "contourcarpet": [
           {
            "colorbar": {
             "outlinewidth": 0,
             "ticks": ""
            },
            "type": "contourcarpet"
           }
          ],
          "heatmap": [
           {
            "colorbar": {
             "outlinewidth": 0,
             "ticks": ""
            },
            "colorscale": [
             [
              0,
              "#0d0887"
             ],
             [
              0.1111111111111111,
              "#46039f"
             ],
             [
              0.2222222222222222,
              "#7201a8"
             ],
             [
              0.3333333333333333,
              "#9c179e"
             ],
             [
              0.4444444444444444,
              "#bd3786"
             ],
             [
              0.5555555555555556,
              "#d8576b"
             ],
             [
              0.6666666666666666,
              "#ed7953"
             ],
             [
              0.7777777777777778,
              "#fb9f3a"
             ],
             [
              0.8888888888888888,
              "#fdca26"
             ],
             [
              1,
              "#f0f921"
             ]
            ],
            "type": "heatmap"
           }
          ],
          "heatmapgl": [
           {
            "colorbar": {
             "outlinewidth": 0,
             "ticks": ""
            },
            "colorscale": [
             [
              0,
              "#0d0887"
             ],
             [
              0.1111111111111111,
              "#46039f"
             ],
             [
              0.2222222222222222,
              "#7201a8"
             ],
             [
              0.3333333333333333,
              "#9c179e"
             ],
             [
              0.4444444444444444,
              "#bd3786"
             ],
             [
              0.5555555555555556,
              "#d8576b"
             ],
             [
              0.6666666666666666,
              "#ed7953"
             ],
             [
              0.7777777777777778,
              "#fb9f3a"
             ],
             [
              0.8888888888888888,
              "#fdca26"
             ],
             [
              1,
              "#f0f921"
             ]
            ],
            "type": "heatmapgl"
           }
          ],
          "histogram": [
           {
            "marker": {
             "pattern": {
              "fillmode": "overlay",
              "size": 10,
              "solidity": 0.2
             }
            },
            "type": "histogram"
           }
          ],
          "histogram2d": [
           {
            "colorbar": {
             "outlinewidth": 0,
             "ticks": ""
            },
            "colorscale": [
             [
              0,
              "#0d0887"
             ],
             [
              0.1111111111111111,
              "#46039f"
             ],
             [
              0.2222222222222222,
              "#7201a8"
             ],
             [
              0.3333333333333333,
              "#9c179e"
             ],
             [
              0.4444444444444444,
              "#bd3786"
             ],
             [
              0.5555555555555556,
              "#d8576b"
             ],
             [
              0.6666666666666666,
              "#ed7953"
             ],
             [
              0.7777777777777778,
              "#fb9f3a"
             ],
             [
              0.8888888888888888,
              "#fdca26"
             ],
             [
              1,
              "#f0f921"
             ]
            ],
            "type": "histogram2d"
           }
          ],
          "histogram2dcontour": [
           {
            "colorbar": {
             "outlinewidth": 0,
             "ticks": ""
            },
            "colorscale": [
             [
              0,
              "#0d0887"
             ],
             [
              0.1111111111111111,
              "#46039f"
             ],
             [
              0.2222222222222222,
              "#7201a8"
             ],
             [
              0.3333333333333333,
              "#9c179e"
             ],
             [
              0.4444444444444444,
              "#bd3786"
             ],
             [
              0.5555555555555556,
              "#d8576b"
             ],
             [
              0.6666666666666666,
              "#ed7953"
             ],
             [
              0.7777777777777778,
              "#fb9f3a"
             ],
             [
              0.8888888888888888,
              "#fdca26"
             ],
             [
              1,
              "#f0f921"
             ]
            ],
            "type": "histogram2dcontour"
           }
          ],
          "mesh3d": [
           {
            "colorbar": {
             "outlinewidth": 0,
             "ticks": ""
            },
            "type": "mesh3d"
           }
          ],
          "parcoords": [
           {
            "line": {
             "colorbar": {
              "outlinewidth": 0,
              "ticks": ""
             }
            },
            "type": "parcoords"
           }
          ],
          "pie": [
           {
            "automargin": true,
            "type": "pie"
           }
          ],
          "scatter": [
           {
            "fillpattern": {
             "fillmode": "overlay",
             "size": 10,
             "solidity": 0.2
            },
            "type": "scatter"
           }
          ],
          "scatter3d": [
           {
            "line": {
             "colorbar": {
              "outlinewidth": 0,
              "ticks": ""
             }
            },
            "marker": {
             "colorbar": {
              "outlinewidth": 0,
              "ticks": ""
             }
            },
            "type": "scatter3d"
           }
          ],
          "scattercarpet": [
           {
            "marker": {
             "colorbar": {
              "outlinewidth": 0,
              "ticks": ""
             }
            },
            "type": "scattercarpet"
           }
          ],
          "scattergeo": [
           {
            "marker": {
             "colorbar": {
              "outlinewidth": 0,
              "ticks": ""
             }
            },
            "type": "scattergeo"
           }
          ],
          "scattergl": [
           {
            "marker": {
             "colorbar": {
              "outlinewidth": 0,
              "ticks": ""
             }
            },
            "type": "scattergl"
           }
          ],
          "scattermapbox": [
           {
            "marker": {
             "colorbar": {
              "outlinewidth": 0,
              "ticks": ""
             }
            },
            "type": "scattermapbox"
           }
          ],
          "scatterpolar": [
           {
            "marker": {
             "colorbar": {
              "outlinewidth": 0,
              "ticks": ""
             }
            },
            "type": "scatterpolar"
           }
          ],
          "scatterpolargl": [
           {
            "marker": {
             "colorbar": {
              "outlinewidth": 0,
              "ticks": ""
             }
            },
            "type": "scatterpolargl"
           }
          ],
          "scatterternary": [
           {
            "marker": {
             "colorbar": {
              "outlinewidth": 0,
              "ticks": ""
             }
            },
            "type": "scatterternary"
           }
          ],
          "surface": [
           {
            "colorbar": {
             "outlinewidth": 0,
             "ticks": ""
            },
            "colorscale": [
             [
              0,
              "#0d0887"
             ],
             [
              0.1111111111111111,
              "#46039f"
             ],
             [
              0.2222222222222222,
              "#7201a8"
             ],
             [
              0.3333333333333333,
              "#9c179e"
             ],
             [
              0.4444444444444444,
              "#bd3786"
             ],
             [
              0.5555555555555556,
              "#d8576b"
             ],
             [
              0.6666666666666666,
              "#ed7953"
             ],
             [
              0.7777777777777778,
              "#fb9f3a"
             ],
             [
              0.8888888888888888,
              "#fdca26"
             ],
             [
              1,
              "#f0f921"
             ]
            ],
            "type": "surface"
           }
          ],
          "table": [
           {
            "cells": {
             "fill": {
              "color": "#EBF0F8"
             },
             "line": {
              "color": "white"
             }
            },
            "header": {
             "fill": {
              "color": "#C8D4E3"
             },
             "line": {
              "color": "white"
             }
            },
            "type": "table"
           }
          ]
         },
         "layout": {
          "annotationdefaults": {
           "arrowcolor": "#2a3f5f",
           "arrowhead": 0,
           "arrowwidth": 1
          },
          "autotypenumbers": "strict",
          "coloraxis": {
           "colorbar": {
            "outlinewidth": 0,
            "ticks": ""
           }
          },
          "colorscale": {
           "diverging": [
            [
             0,
             "#8e0152"
            ],
            [
             0.1,
             "#c51b7d"
            ],
            [
             0.2,
             "#de77ae"
            ],
            [
             0.3,
             "#f1b6da"
            ],
            [
             0.4,
             "#fde0ef"
            ],
            [
             0.5,
             "#f7f7f7"
            ],
            [
             0.6,
             "#e6f5d0"
            ],
            [
             0.7,
             "#b8e186"
            ],
            [
             0.8,
             "#7fbc41"
            ],
            [
             0.9,
             "#4d9221"
            ],
            [
             1,
             "#276419"
            ]
           ],
           "sequential": [
            [
             0,
             "#0d0887"
            ],
            [
             0.1111111111111111,
             "#46039f"
            ],
            [
             0.2222222222222222,
             "#7201a8"
            ],
            [
             0.3333333333333333,
             "#9c179e"
            ],
            [
             0.4444444444444444,
             "#bd3786"
            ],
            [
             0.5555555555555556,
             "#d8576b"
            ],
            [
             0.6666666666666666,
             "#ed7953"
            ],
            [
             0.7777777777777778,
             "#fb9f3a"
            ],
            [
             0.8888888888888888,
             "#fdca26"
            ],
            [
             1,
             "#f0f921"
            ]
           ],
           "sequentialminus": [
            [
             0,
             "#0d0887"
            ],
            [
             0.1111111111111111,
             "#46039f"
            ],
            [
             0.2222222222222222,
             "#7201a8"
            ],
            [
             0.3333333333333333,
             "#9c179e"
            ],
            [
             0.4444444444444444,
             "#bd3786"
            ],
            [
             0.5555555555555556,
             "#d8576b"
            ],
            [
             0.6666666666666666,
             "#ed7953"
            ],
            [
             0.7777777777777778,
             "#fb9f3a"
            ],
            [
             0.8888888888888888,
             "#fdca26"
            ],
            [
             1,
             "#f0f921"
            ]
           ]
          },
          "colorway": [
           "#636efa",
           "#EF553B",
           "#00cc96",
           "#ab63fa",
           "#FFA15A",
           "#19d3f3",
           "#FF6692",
           "#B6E880",
           "#FF97FF",
           "#FECB52"
          ],
          "font": {
           "color": "#2a3f5f"
          },
          "geo": {
           "bgcolor": "white",
           "lakecolor": "white",
           "landcolor": "#E5ECF6",
           "showlakes": true,
           "showland": true,
           "subunitcolor": "white"
          },
          "hoverlabel": {
           "align": "left"
          },
          "hovermode": "closest",
          "mapbox": {
           "style": "light"
          },
          "paper_bgcolor": "white",
          "plot_bgcolor": "#E5ECF6",
          "polar": {
           "angularaxis": {
            "gridcolor": "white",
            "linecolor": "white",
            "ticks": ""
           },
           "bgcolor": "#E5ECF6",
           "radialaxis": {
            "gridcolor": "white",
            "linecolor": "white",
            "ticks": ""
           }
          },
          "scene": {
           "xaxis": {
            "backgroundcolor": "#E5ECF6",
            "gridcolor": "white",
            "gridwidth": 2,
            "linecolor": "white",
            "showbackground": true,
            "ticks": "",
            "zerolinecolor": "white"
           },
           "yaxis": {
            "backgroundcolor": "#E5ECF6",
            "gridcolor": "white",
            "gridwidth": 2,
            "linecolor": "white",
            "showbackground": true,
            "ticks": "",
            "zerolinecolor": "white"
           },
           "zaxis": {
            "backgroundcolor": "#E5ECF6",
            "gridcolor": "white",
            "gridwidth": 2,
            "linecolor": "white",
            "showbackground": true,
            "ticks": "",
            "zerolinecolor": "white"
           }
          },
          "shapedefaults": {
           "line": {
            "color": "#2a3f5f"
           }
          },
          "ternary": {
           "aaxis": {
            "gridcolor": "white",
            "linecolor": "white",
            "ticks": ""
           },
           "baxis": {
            "gridcolor": "white",
            "linecolor": "white",
            "ticks": ""
           },
           "bgcolor": "#E5ECF6",
           "caxis": {
            "gridcolor": "white",
            "linecolor": "white",
            "ticks": ""
           }
          },
          "title": {
           "x": 0.05
          },
          "xaxis": {
           "automargin": true,
           "gridcolor": "white",
           "linecolor": "white",
           "ticks": "",
           "title": {
            "standoff": 15
           },
           "zerolinecolor": "white",
           "zerolinewidth": 2
          },
          "yaxis": {
           "automargin": true,
           "gridcolor": "white",
           "linecolor": "white",
           "ticks": "",
           "title": {
            "standoff": 15
           },
           "zerolinecolor": "white",
           "zerolinewidth": 2
          }
         }
        },
        "title": {
         "text": "Hyperparameter Importances"
        },
        "xaxis": {
         "title": {
          "text": "Importance for Objective Value"
         }
        },
        "yaxis": {
         "title": {
          "text": "Hyperparameter"
         }
        }
       }
      }
     },
     "metadata": {},
     "output_type": "display_data"
    }
   ],
   "source": [
    "optuna.visualization.plot_param_importances(random_sampler_study, params=list(study.best_params.keys()))"
   ]
  },
  {
   "cell_type": "code",
   "execution_count": 15,
   "metadata": {},
   "outputs": [
    {
     "name": "stdout",
     "output_type": "stream",
     "text": [
      "Study best model roc auc score: 0.9999849138581299\n",
      "Random study best model roc auc score: 1.0\n"
     ]
    }
   ],
   "source": [
    "X_train, X_test, y_train, y_test = train_test_split(df, target, train_size=train_size, shuffle=True)\n",
    "study_best_model = KNeighborsClassifier(algorithm='kd_tree', n_neighbors=339, weights='uniform', leaf_size=114, p=1)\n",
    "study_best_model.fit(X_train, y_train)\n",
    "prediction = study_best_model.predict_proba(X_test)[:, 1]\n",
    "roc_auc = roc_auc_score(y_test, prediction)\n",
    "\n",
    "random_sampler_study_best_model = KNeighborsClassifier(algorithm='auto', n_neighbors=213, weights='distance', p=1)\n",
    "random_sampler_study_best_model.fit(X_train, y_train)\n",
    "random_sampler_prediction = random_sampler_study_best_model.predict_proba(X_test)[:, 1]\n",
    "random_sampler_roc_auc = roc_auc_score(y_test, random_sampler_prediction)\n",
    "\n",
    "print('Study best model roc auc score: {}'.format(roc_auc))\n",
    "print('Random study best model roc auc score: {}'.format(random_sampler_roc_auc))"
   ]
  }
 ],
 "metadata": {
  "kernelspec": {
   "display_name": "Python 3",
   "language": "python",
   "name": "python3"
  },
  "language_info": {
   "codemirror_mode": {
    "name": "ipython",
    "version": 3
   },
   "file_extension": ".py",
   "mimetype": "text/x-python",
   "name": "python",
   "nbconvert_exporter": "python",
   "pygments_lexer": "ipython3",
   "version": "3.8.9"
  },
  "orig_nbformat": 4
 },
 "nbformat": 4,
 "nbformat_minor": 2
}
